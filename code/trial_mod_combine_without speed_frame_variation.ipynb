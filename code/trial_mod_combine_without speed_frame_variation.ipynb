{
 "cells": [
  {
   "cell_type": "code",
   "execution_count": 1,
   "metadata": {
    "collapsed": false
   },
   "outputs": [],
   "source": [
    "import numpy as np\n",
    "import pandas as pd\n",
    "#from pylab import *\n",
    "import scipy.signal as signal\n",
    "import scipy as sci\n",
    "import math as ma"
   ]
  },
  {
   "cell_type": "code",
   "execution_count": 2,
   "metadata": {
    "collapsed": false,
    "scrolled": true
   },
   "outputs": [],
   "source": [
    "dataset1 = pd.read_json(\"./../Data/Band/CLASS_NOV2/merged_file_acc.json\")\n",
    "dataset1_g = pd.read_json(\"./../Data/Band/CLASS_NOV2/merged_file_gyro.json\")\n",
    "dataset1_h = pd.read_json(\"./../Data/Band/CLASS_NOV2/merged_file_heart.json\")\n",
    "dataset1_t = pd.read_json(\"./../Data/Band/CLASS_NOV2/merged_file_skin.json\")\n",
    "dataset1_s = pd.read_json(\"./../Data/Band/CLASS_NOV2/merged_file_skin.json\")\n",
    "\n",
    "dataset1 = dataset1.sort_values(by='Timestamp') \n",
    "dataset1['Timestamp'] = dataset1['Timestamp'].apply(lambda x: x.replace(microsecond=0))\n",
    "dataset1 = dataset1[[5,6,7,8]]\n",
    "\n",
    "dataset1_g = dataset1_g.sort_values(by='Timestamp') \n",
    "dataset1_g['Timestamp'] = dataset1_g['Timestamp'].apply(lambda x: x.replace(microsecond=0))\n",
    "dataset1_g = dataset1_g[[1,2,3,8]]\n",
    "\n",
    "dataset_f1 = dataset1.merge(dataset1_g,how='left', left_on='Timestamp', right_on='Timestamp')\n",
    "\n",
    "dataset1_h = dataset1_h.sort_values(by='Timestamp') \n",
    "dataset1_h['Timestamp'] = dataset1_h['Timestamp'].apply(lambda x: x.replace(microsecond=0))\n",
    "dataset1_h = dataset1_h[[6,3]]\n",
    "\n",
    "dataset_f1 = dataset_f1.merge(dataset1_h,how='left', left_on='Timestamp', right_on='Timestamp')\n",
    "\n",
    "dataset1_t = dataset1_t.sort_values(by='Timestamp') \n",
    "dataset1_t['Timestamp'] = dataset1_t['Timestamp'].apply(lambda x: x.replace(microsecond=0))\n",
    "dataset1_t = dataset1_t[[6,5]]\n",
    "\n",
    "dataset_f1 = dataset_f1.merge(dataset1_t,how='left', left_on='Timestamp', right_on='Timestamp')\n",
    "\n",
    "#dataset1_s = dataset1_s.sort_values(by='Timestamp')\n",
    "#dataset1_s['Timestamp'] = dataset1_s['Timestamp'].apply(lambda x: x.replace(microsecond=0))\n",
    "#dataset1_s = dataset1_s[[7,5]]\n",
    "#dataset_f1 = dataset_f1.merge(dataset1_s,how='left', left_on='Timestamp', right_on='Timestamp')\n",
    "\n",
    "dataset_f1 = dataset_f1.fillna(method='bfill')\n",
    "dataset_f1 = dataset_f1.fillna(method='pad')\n"
   ]
  },
  {
   "cell_type": "code",
   "execution_count": 3,
   "metadata": {
    "collapsed": false
   },
   "outputs": [],
   "source": [
    "dataset2 = pd.read_json(\"./../Data/Band/CLASS_OCT31/merged_file_acc.json\")\n",
    "dataset2_g = pd.read_json(\"./../Data/Band/CLASS_OCT31/merged_file_gyro.json\")\n",
    "dataset2_h = pd.read_json(\"./../Data/Band/CLASS_OCT31/merged_file_heart.json\")\n",
    "dataset2_t = pd.read_json(\"./../Data/Band/CLASS_OCT31/merged_file_skin.json\")\n",
    "dataset2_s = pd.read_json(\"./../Data/Band/CLASS_OCT31/merged_file_skin.json\")\n",
    "\n",
    "dataset2 = dataset2.sort_values(by='Timestamp') \n",
    "dataset2['Timestamp'] = dataset2['Timestamp'].apply(lambda x: x.replace(microsecond=0))\n",
    "dataset2 = dataset2[[5,6,7,8]]\n",
    "\n",
    "dataset2_g = dataset2_g.sort_values(by='Timestamp') \n",
    "dataset2_g['Timestamp'] = dataset2_g['Timestamp'].apply(lambda x: x.replace(microsecond=0))\n",
    "dataset2_g = dataset2_g[[1,2,3,8]]\n",
    "\n",
    "dataset_f2 = dataset2.merge(dataset2_g,how='left', left_on='Timestamp', right_on='Timestamp')\n",
    "\n",
    "dataset2_h = dataset2_h.sort_values(by='Timestamp') \n",
    "dataset2_h['Timestamp'] = dataset2_h['Timestamp'].apply(lambda x: x.replace(microsecond=0))\n",
    "dataset2_h = dataset2_h[[6,3]]\n",
    "\n",
    "dataset_f2 = dataset_f2.merge(dataset2_h,how='left', left_on='Timestamp', right_on='Timestamp')\n",
    "\n",
    "dataset2_t = dataset2_t.sort_values(by='Timestamp') \n",
    "dataset2_t['Timestamp'] = dataset2_t['Timestamp'].apply(lambda x: x.replace(microsecond=0))\n",
    "dataset2_t = dataset2_t[[6,5]]\n",
    "\n",
    "dataset_f2 = dataset_f2.merge(dataset2_t,how='left', left_on='Timestamp', right_on='Timestamp')\n",
    "\n",
    "#dataset2_s = dataset2_s.sort_values(by='Timestamp')\n",
    "#dataset2_s['Timestamp'] = dataset2_s['Timestamp'].apply(lambda x: x.replace(microsecond=0))\n",
    "#dataset2_s = dataset2_s[[7,5]]\n",
    "#dataset_f2 = dataset_f2.merge(dataset2_s,how='left', left_on='Timestamp', right_on='Timestamp')\n",
    "\n",
    "dataset_f2 = dataset_f2.fillna(method='bfill')\n",
    "dataset_f2 = dataset_f2.fillna(method='pad')\n"
   ]
  },
  {
   "cell_type": "code",
   "execution_count": 4,
   "metadata": {
    "collapsed": true
   },
   "outputs": [],
   "source": [
    "import matplotlib.pyplot as plt\n",
    "%matplotlib inline"
   ]
  },
  {
   "cell_type": "code",
   "execution_count": 5,
   "metadata": {
    "collapsed": false
   },
   "outputs": [],
   "source": [
    "data = dataset_f2.as_matrix();\n",
    "data1 = dataset_f1.as_matrix();\n"
   ]
  },
  {
   "cell_type": "code",
   "execution_count": 6,
   "metadata": {
    "collapsed": false
   },
   "outputs": [],
   "source": [
    "ax_2 = data[:,1];\n",
    "ay_2 = data[:,2];\n",
    "az_2 = data[:,3];\n",
    "gx_2 = data[:,4];\n",
    "gy_2 = data[:,5];\n",
    "gz_2 = data[:,6];\n",
    "h_2 = data[:,7];\n",
    "t_2 = data[:,8];\n",
    "#s_2 = data[:,9]\n",
    "\n",
    "\n",
    "ax_1 = data1[:,1];\n",
    "ay_1 = data1[:,2];\n",
    "az_1 = data1[:,3];\n",
    "gx_1 = data1[:,4];\n",
    "gy_1 = data1[:,5];\n",
    "gz_1 = data1[:,6];\n",
    "h_1 = data1[:,7];\n",
    "t_1 = data1[:,8];\n",
    "#s_1 = data1[:,9]\n",
    "\n",
    "len1 = np.linspace(0, len(ax_1), len(ax_1));\n",
    "len2 = np.linspace(0, len(ax_2), len(ax_2));\n",
    "\n",
    "#plt.figure\n",
    "#plt.plot( len2, ax_2, \"r\",len1,ax_1,\"b\");\n",
    "#plt.legend((\"Ax-Band-2\", \"Ax-Band-1\"), loc ='best');\n",
    "#plt.grid(True);\n",
    "#plt.show();"
   ]
  },
  {
   "cell_type": "code",
   "execution_count": 7,
   "metadata": {
    "collapsed": false
   },
   "outputs": [],
   "source": [
    "#len1 = np.linspace(0, len(ax_1), len(ax_1));\n",
    "#len2 = np.linspace(0, len(ax_2), len(ax_2));\n",
    "\n",
    "#plt.figure\n",
    "#plt.plot(len1,az_1,\"b\", len2, az_2, \"r\");\n",
    "#plt.legend((\"Az-Band-1\", \"Az-Band-2\"), loc ='best');\n",
    "#plt.grid(True);\n",
    "#plt.show();"
   ]
  },
  {
   "cell_type": "code",
   "execution_count": 8,
   "metadata": {
    "collapsed": false
   },
   "outputs": [],
   "source": [
    "#len1 = np.linspace(0, len(ay_1), len(ay_1));\n",
    "#len2 = np.linspace(0, len(ay_2), len(ay_2));\n",
    "\n",
    "#plt.figure\n",
    "#plt.plot( len2, ay_2, \"r\",len1,ay_1,\"b\");\n",
    "#plt.legend((\"Ay-Band-2\", \"Ay-Band-1\"), loc ='best');\n",
    "#plt.grid(True);\n",
    "#plt.show();"
   ]
  },
  {
   "cell_type": "code",
   "execution_count": 9,
   "metadata": {
    "collapsed": false
   },
   "outputs": [],
   "source": [
    "#len1 = np.linspace(0, len(gx_1), len(gx_1));\n",
    "#len2 = np.linspace(0, len(gx_2), len(gx_2));\n",
    "\n",
    "#plt.figure\n",
    "#plt.plot(len1,gx_1,\"b\", len2, gx_2, \"r\");\n",
    "#plt.legend((\"Gx-Band-1\", \"Gx-Band-2\"), loc ='best');\n",
    "#plt.grid(True);\n",
    "#plt.show();"
   ]
  },
  {
   "cell_type": "code",
   "execution_count": 10,
   "metadata": {
    "collapsed": false,
    "scrolled": true
   },
   "outputs": [],
   "source": [
    "#len1 = np.linspace(0, len(gx_1), len(gx_1));\n",
    "#len2 = np.linspace(0, len(gx_2), len(gx_2));\n",
    "\n",
    "#plt.figure\n",
    "#plt.plot(len1,gy_1,\"b\", len2, gy_2, \"r\");\n",
    "#plt.legend((\"Gy-Band-1\", \"Gy-Band-2\"), loc ='best');\n",
    "#plt.grid(True);\n",
    "#plt.show();"
   ]
  },
  {
   "cell_type": "code",
   "execution_count": 11,
   "metadata": {
    "collapsed": false
   },
   "outputs": [],
   "source": [
    "import matplotlib.pyplot as plt\n",
    "%matplotlib inline\n",
    "#plt.plot(ax_1[0:100])\n",
    "#plt.show()"
   ]
  },
  {
   "cell_type": "code",
   "execution_count": 12,
   "metadata": {
    "collapsed": false
   },
   "outputs": [],
   "source": [
    "d2 = np.mean(data[:,1:4]**2, axis = 1);\n",
    "d1 = np.mean(data1[:,1:4]**2, axis = 1);"
   ]
  },
  {
   "cell_type": "code",
   "execution_count": 13,
   "metadata": {
    "collapsed": false
   },
   "outputs": [
    {
     "data": {
      "text/plain": [
       "(6704,)"
      ]
     },
     "execution_count": 13,
     "metadata": {},
     "output_type": "execute_result"
    }
   ],
   "source": [
    "d2.shape"
   ]
  },
  {
   "cell_type": "code",
   "execution_count": 14,
   "metadata": {
    "collapsed": false
   },
   "outputs": [],
   "source": [
    "rms_acc_2 = []\n",
    "for i in range (0, len(d2)):\n",
    "    rms_acc_2.append(ma.sqrt(d2[i]));\n",
    "    \n",
    "rms_acc_1 = []\n",
    "for i in range (0, len(d1)):\n",
    "    rms_acc_1.append(ma.sqrt(d1[i]));\n",
    "#len(rms_acc_1)\n",
    "\n",
    "#len1 = np.linspace(0, len(rms_acc_1), len(rms_acc_1));\n",
    "#len2 = np.linspace(0, len(rms_acc_2), len(rms_acc_2));\n",
    "\n",
    "#plt.figure\n",
    "#plt.plot( len2, rms_acc_2, \"r\",len1,rms_acc_1,\"b\");\n",
    "#plt.legend((\"Band-2\", \"Band-1\"), loc ='best');\n",
    "#plt.grid(True);\n",
    "#plt.show();\n"
   ]
  },
  {
   "cell_type": "code",
   "execution_count": 15,
   "metadata": {
    "collapsed": false
   },
   "outputs": [],
   "source": [
    "#rms_acc_2"
   ]
  },
  {
   "cell_type": "code",
   "execution_count": 16,
   "metadata": {
    "collapsed": false
   },
   "outputs": [],
   "source": [
    "w = signal.medfilt(rms_acc_2);\n",
    "\n",
    "acc_x_2 = signal.medfilt(ax_2);\n",
    "acc_y_2 = signal.medfilt(ay_2);\n",
    "acc_z_2 = signal.medfilt(az_2);\n",
    "\n",
    "Num_taps = 10;\n",
    "a = signal.firwin(Num_taps, cutoff = 0.001, window = \"boxcar\");\n",
    "\n",
    "g_x_2 = signal.convolve(gx_2, a, mode='full');\n",
    "g_y_2 = signal.convolve(gy_2, a, mode='full');\n",
    "g_z_2 = signal.convolve(gz_2, a, mode='full');\n",
    "\n",
    "w1 = signal.medfilt(rms_acc_1);\n",
    "\n",
    "acc_x_1 = signal.medfilt(ax_1);\n",
    "acc_y_1 = signal.medfilt(ay_1);\n",
    "acc_z_1 = signal.medfilt(az_1);\n",
    "\n",
    "Num_taps = 10;\n",
    "a = signal.firwin(Num_taps, cutoff = 0.001, window = \"boxcar\");\n",
    "\n",
    "g_x_1 = signal.convolve(gx_1, a, mode='full');\n",
    "g_y_1 = signal.convolve(gy_1, a, mode='full');\n",
    "g_z_1 = signal.convolve(gz_1, a, mode='full');"
   ]
  },
  {
   "cell_type": "code",
   "execution_count": 17,
   "metadata": {
    "collapsed": false
   },
   "outputs": [],
   "source": [
    "def var_frame(frame,stepsize):\n",
    "\n",
    "    frame = frame;\n",
    "    stepsize = stepsize;\n",
    "    vr2 = [];\n",
    "    mn2 = [];\n",
    "\n",
    "    vr_acc_x_2 = []\n",
    "    vr_acc_y_2 = []\n",
    "    vr_acc_z_2 = []\n",
    "\n",
    "\n",
    "    rms_acc_x_2 = []\n",
    "    rms_acc_y_2 = []\n",
    "    rms_acc_z_2 = []\n",
    "\n",
    "\n",
    "    # vr1 = variance of rms acc1\n",
    "    # vr2 = variance of rms acc2\n",
    "    # mn1 = mean of rms acc1\n",
    "    # mn2 = mean of rms ac c1\n",
    "\n",
    "    mn_acc_x_2 = []\n",
    "\n",
    "    mn_acc_y_2 = []\n",
    "\n",
    "    mn_acc_z_2 = []\n",
    "\n",
    "    mn_g_x_2 = []\n",
    "\n",
    "    mn_g_y_2 = []\n",
    "\n",
    "    mn_g_z_2 = []\n",
    "\n",
    "    vr_g_x_2 = []\n",
    "\n",
    "    vr_g_y_2 = []\n",
    "\n",
    "    vr_g_z_2 = []\n",
    "\n",
    "    rms_g_x_2 = []\n",
    "\n",
    "    rms_g_y_2 = []\n",
    "\n",
    "    rms_g_z_2 = []\n",
    "\n",
    "    mn_h_2 = []\n",
    "\n",
    "    mn_t_2 = []\n",
    "\n",
    "    mn_s_2 = []\n",
    "\n",
    "\n",
    "    #vr_acc_x_1\n",
    "    #vr_acc_y_1\n",
    "    #vr_acc_z_1\n",
    "\n",
    "    #mn_acc_x_1\n",
    "    #mn_acc_y_1\n",
    "    #mn_acc_z_1\n",
    "\n",
    "\n",
    "    #vr_acc_x_2\n",
    "    #vr_acc_y_2\n",
    "    #vr_acc_z_2\n",
    "\n",
    "    #mn_acc_x_2\n",
    "    #mn_acc_y_2\n",
    "    #mn_acc_z_2    \n",
    "\n",
    "\n",
    "    vr1 = [];\n",
    "    mn1 = [];\n",
    "\n",
    "    vr_acc_x_1 = []\n",
    "    vr_acc_y_1 = []\n",
    "    vr_acc_z_1 = []\n",
    "\n",
    "\n",
    "    rms_acc_x_1 = []\n",
    "    rms_acc_y_1 = []\n",
    "    rms_acc_z_1 = []\n",
    "\n",
    "\n",
    "    mn_acc_x_1 = []\n",
    "\n",
    "    mn_acc_y_1 = []\n",
    "\n",
    "    mn_acc_z_1 = []\n",
    "    mn_g_x_1 = []\n",
    "\n",
    "    mn_g_y_1= []\n",
    "\n",
    "    mn_g_z_1 = []\n",
    "\n",
    "    vr_g_x_1 = []\n",
    "\n",
    "    vr_g_y_1 = []\n",
    "\n",
    "    vr_g_z_1 = []\n",
    "\n",
    "    rms_g_x_1 = []\n",
    "\n",
    "    rms_g_y_1 = []\n",
    "\n",
    "    rms_g_z_1 = []\n",
    "\n",
    "    mn_h_1 = []\n",
    "\n",
    "    mn_t_1 = []\n",
    "\n",
    "    #mn_s_1 = []\n",
    "\n",
    "    for cnt in range (0, len(acc_x_2), stepsize):\n",
    "        dt = acc_x_2[cnt:cnt+frame];\n",
    "        dt2 = acc_y_2[cnt:cnt+frame];\n",
    "        dt3 = acc_z_2[cnt:cnt+frame];\n",
    "        var_acc_x_2 = np.var(dt, axis = 0)\n",
    "        var_acc_y_2 = np.var(dt2, axis = 0)\n",
    "        var_acc_z_2 = np.var(dt3, axis = 0)\n",
    "\n",
    "        vr_acc_x_2.append(var_acc_x_2);\n",
    "        vr_acc_y_2.append(var_acc_y_2);\n",
    "        vr_acc_z_2.append(var_acc_z_2);\n",
    "\n",
    "    for cnt in range (0, len(acc_x_1), stepsize):\n",
    "        dt = acc_x_1[cnt:cnt+frame];\n",
    "        dt2 = acc_y_1[cnt:cnt+frame];\n",
    "        dt3 = acc_z_1[cnt:cnt+frame];\n",
    "        var_acc_x_1 = np.var(dt, axis = 0)\n",
    "        var_acc_y_1 = np.var(dt2, axis = 0)\n",
    "        var_acc_z_1 = np.var(dt3, axis = 0)\n",
    "\n",
    "        vr_acc_x_1.append(var_acc_x_1);\n",
    "        vr_acc_y_1.append(var_acc_y_1);\n",
    "        vr_acc_z_1.append(var_acc_z_1);\n",
    "\n",
    "    for cnt in range (0, len(acc_x_2), stepsize):\n",
    "        dt = acc_x_2[cnt:cnt+frame];\n",
    "        dt2 = acc_y_2[cnt:cnt+frame];\n",
    "        dt3 = acc_z_2[cnt:cnt+frame];\n",
    "        mean_acc_x_2 = np.mean(dt, axis = 0)\n",
    "        mean_acc_y_2 = np.mean(dt2, axis = 0)\n",
    "        mean_acc_z_2 = np.mean(dt3, axis = 0)\n",
    "\n",
    "        mn_acc_x_2.append(mean_acc_x_2);\n",
    "        mn_acc_y_2.append(mean_acc_y_2);\n",
    "        mn_acc_z_2.append(mean_acc_z_2);\n",
    "\n",
    "\n",
    "    for cnt in range (0, len(acc_x_1), stepsize):\n",
    "        dt = acc_x_1[cnt:cnt+frame];\n",
    "        dt2 = acc_y_1[cnt:cnt+frame];\n",
    "        dt3 = acc_z_1[cnt:cnt+frame];\n",
    "        mean_acc_x_1 = np.mean(dt, axis = 0)\n",
    "        mean_acc_y_1 = np.mean(dt2, axis = 0)\n",
    "        mean_acc_z_1 = np.mean(dt3, axis = 0)\n",
    "\n",
    "        mn_acc_x_1.append(mean_acc_x_1);\n",
    "        mn_acc_y_1.append(mean_acc_y_1);\n",
    "        mn_acc_z_1.append(mean_acc_z_1);\n",
    "\n",
    "\n",
    "    #len1 = np.linspace(0, len(gx_1), len(gx_1));\n",
    "    #len2 = np.linspace(0, len(gx_2), len(gx_2));\n",
    "\n",
    "    #plt.figure\n",
    "    #plt.plot(len1,gz_1,\"b\", len2, gz_2, \"r\");\n",
    "    #plt.legend((\"Gz-Band-1\", \"Gz-Band-2\"), loc ='best');\n",
    "    #plt.grid(True);\n",
    "    #plt.show();\n",
    "\n",
    "    for cnt in range (0, len(acc_x_2), stepsize):\n",
    "        dt = acc_x_2[cnt:cnt+frame];\n",
    "        dt2 = acc_y_2[cnt:cnt+frame];\n",
    "        dt3 = acc_z_2[cnt:cnt+frame];\n",
    "\n",
    "        rm_acc_x_2 = np.mean(dt**2, axis = 0)\n",
    "        rm_acc_y_2 = np.mean(dt2**2, axis = 0)\n",
    "        rm_acc_z_2 = np.mean(dt3**2, axis = 0)\n",
    "\n",
    "        rms_acc_x_2.append(ma.sqrt(rm_acc_x_2));\n",
    "        rms_acc_y_2.append(ma.sqrt(rm_acc_y_2));\n",
    "        rms_acc_z_2.append(ma.sqrt(rm_acc_z_2));\n",
    "\n",
    "\n",
    "    for cnt in range (0, len(acc_x_1), stepsize):\n",
    "        dt = acc_x_1[cnt:cnt+frame];\n",
    "        dt2 = acc_y_1[cnt:cnt+frame];\n",
    "        dt3 = acc_z_1[cnt:cnt+frame];\n",
    "\n",
    "        rm_acc_x_1 = np.mean(dt**2, axis = 0)\n",
    "        rm_acc_y_1 = np.mean(dt2**2, axis = 0)\n",
    "        rm_acc_z_1 = np.mean(dt3**2, axis = 0)\n",
    "\n",
    "        rms_acc_x_1.append(ma.sqrt(rm_acc_x_1));\n",
    "        rms_acc_y_1.append(ma.sqrt(rm_acc_y_1));\n",
    "        rms_acc_z_1.append(ma.sqrt(rm_acc_z_1));\n",
    "\n",
    "\n",
    "    for count in range (0,len(acc_x_2), stepsize):\n",
    "        dt2 = w[count:count + frame];\n",
    "        var2 = np.var(dt2, axis = 0);\n",
    "        mean2 = np.mean(dt2, axis = 0);\n",
    "\n",
    "        vr2.append(var2);\n",
    "        mn2.append(mean2);\n",
    "\n",
    "\n",
    "    for count in range (0,len(acc_x_1), stepsize):\n",
    "        dt1 = w[count:count + frame];\n",
    "        var1 = np.var(dt2, axis = 0);\n",
    "        mean1 = np.mean(dt2, axis = 0);\n",
    "\n",
    "        vr1.append(var1);\n",
    "        mn1.append(mean1);\n",
    "\n",
    "    for cnt in range (0, len(acc_x_2), stepsize):\n",
    "        dt = gx_2[cnt:cnt+frame];\n",
    "        dt2 = gy_2[cnt:cnt+frame];\n",
    "        dt3 = gz_2[cnt:cnt+frame];\n",
    "        dt4 = h_2[cnt:cnt+frame];\n",
    "        dt5 = t_2[cnt:cnt+frame];\n",
    "        #dt6 = s_2[cnt:cnt+frame];\n",
    "\n",
    "        mean_gx_2 = np.mean(dt, axis = 0)\n",
    "        mean_gy_2 = np.mean(dt2, axis = 0)\n",
    "        mean_gz_2 = np.mean(dt3, axis = 0)\n",
    "\n",
    "        var_gx_2 = np.var(dt, axis = 0)\n",
    "        var_gy_2 = np.var(dt2, axis = 0)\n",
    "        var_gz_2 = np.var(dt3, axis = 0)\n",
    "\n",
    "        vr_g_x_2.append(var_gx_2);\n",
    "        vr_g_y_2.append(var_gy_2);\n",
    "        vr_g_z_2.append(var_gz_2);\n",
    "\n",
    "        rm_g_x_2 = np.mean(dt**2, axis = 0)\n",
    "        rm_g_y_2 = np.mean(dt2**2, axis = 0)\n",
    "        rm_g_z_2 = np.mean(dt3**2, axis = 0)\n",
    "\n",
    "        rms_g_x_2.append(ma.sqrt(rm_g_x_2));\n",
    "        rms_g_y_2.append(ma.sqrt(rm_g_y_2));\n",
    "        rms_g_z_2.append(ma.sqrt(rm_g_z_2));\n",
    "\n",
    "        mean_h_2 = np.mean(dt4, axis = 0)\n",
    "        mean_t_2 = np.mean(dt5, axis = 0)\n",
    "        #mean_s_2 = np.mean(dt6, axis = 0)\n",
    "\n",
    "        mn_g_x_2.append(mean_gx_2);\n",
    "        mn_g_y_2.append(mean_gy_2);\n",
    "        mn_g_z_2.append(mean_gz_2);\n",
    "        mn_h_2.append(mean_h_2);\n",
    "        mn_t_2.append(mean_t_2);\n",
    "        #mn_s_2.append(mean_s_2);\n",
    "\n",
    "\n",
    "\n",
    "    for cnt in range (0, len(acc_x_1), stepsize):\n",
    "        dt = gx_1[cnt:cnt+frame];\n",
    "        dt2 = gy_1[cnt:cnt+frame];\n",
    "        dt3 = gz_1[cnt:cnt+frame];\n",
    "        dt4 = h_1[cnt:cnt+frame];\n",
    "        dt5 = t_1[cnt:cnt+frame];\n",
    "        #dt6 = s_1[cnt:cnt+frame];\n",
    "\n",
    "        mean_gx_1 = np.mean(dt, axis = 0)\n",
    "        mean_gy_1 = np.mean(dt2, axis = 0)\n",
    "        mean_gz_1 = np.mean(dt3, axis = 0)\n",
    "\n",
    "        var_gx_1 = np.var(dt, axis = 0)\n",
    "        var_gy_1 = np.var(dt2, axis = 0)\n",
    "        var_gz_1 = np.var(dt3, axis = 0)\n",
    "\n",
    "        vr_g_x_1.append(var_gx_1);\n",
    "        vr_g_y_1.append(var_gy_1);\n",
    "        vr_g_z_1.append(var_gz_1);\n",
    "\n",
    "        rm_g_x_1 = np.mean(dt**2, axis = 0)\n",
    "        rm_g_y_1 = np.mean(dt2**2, axis = 0)\n",
    "        rm_g_z_1 = np.mean(dt3**2, axis = 0)\n",
    "\n",
    "        rms_g_x_1.append(ma.sqrt(rm_g_x_1));\n",
    "        rms_g_y_1.append(ma.sqrt(rm_g_y_1));\n",
    "        rms_g_z_1.append(ma.sqrt(rm_g_z_1));\n",
    "\n",
    "        mean_h_1 = np.mean(dt4, axis = 0)\n",
    "        mean_t_1 = np.mean(dt5, axis = 0)\n",
    "        #mean_s_1 = np.mean(dt6, axis = 0)\n",
    "\n",
    "        mn_g_x_1.append(mean_gx_1);\n",
    "        mn_g_y_1.append(mean_gy_1);\n",
    "        mn_g_z_1.append(mean_gz_2);\n",
    "        mn_h_1.append(mean_h_1);\n",
    "        mn_t_1.append(mean_t_1);\n",
    "        #mn_s_1.append(mean_s_1);\n",
    "\n",
    "    a = np.zeros((len(mn_acc_x_2),), dtype=np.int)\n",
    "    a1 = np.zeros((len(mn_acc_x_1),), dtype=np.int)\n",
    "\n",
    "    data_frame_features = np.column_stack((mn_acc_x_2, mn_acc_y_2,mn_acc_z_2,vr_acc_x_2, vr_acc_y_2,vr_acc_z_2,rms_acc_x_2,rms_acc_y_2,rms_acc_z_2,mn2,vr2,mn_g_x_2,mn_g_y_2,mn_g_z_2,vr_g_x_2,vr_g_y_2,vr_g_z_2,rms_g_x_2,rms_g_y_2,rms_g_z_2,mn_h_2,mn_t_2,a))\n",
    "\n",
    "    data_frame_features1 = np.column_stack((mn_acc_x_1, mn_acc_y_1,mn_acc_z_1,vr_acc_x_1, vr_acc_y_1,vr_acc_z_1,rms_acc_x_1,rms_acc_y_1,rms_acc_z_1,mn1,vr1,mn_g_x_1,mn_g_y_1,mn_g_z_1,vr_g_x_1,vr_g_y_1,vr_g_z_1,rms_g_x_1,rms_g_y_1,rms_g_z_1,mn_h_1,mn_t_1, a1))#mn_s_1,a1))\n",
    "\n",
    "    data_frame_features.shape\n",
    "\n",
    "    return data_frame_features, data_frame_features1"
   ]
  },
  {
   "cell_type": "code",
   "execution_count": 18,
   "metadata": {
    "collapsed": false
   },
   "outputs": [],
   "source": [
    "counter = 0\n",
    "for i in range (50,200,5):\n",
    "    for j in range (25, 100,5):\n",
    "        data_frame_features, data_frame_features1 = var_frame(i,j);\n",
    "        \n",
    "        rows = data_frame_features.shape[0];\n",
    "        a = np.zeros((rows,), dtype=np.int)\n",
    "        a1 = np.zeros((rows,), dtype=np.int)\n",
    "        a.fill(i);\n",
    "        a1.fill(j);\n",
    "        data_frame_features = np.column_stack((data_frame_features,a,a1))\n",
    "        \n",
    "        rows1 = data_frame_features1.shape[0];\n",
    "        b = np.zeros((rows1,), dtype=np.int)\n",
    "        b1 = np.zeros((rows1,), dtype=np.int)\n",
    "        b.fill(i);\n",
    "        b1.fill(j);\n",
    "        data_frame_features1 = np.column_stack((data_frame_features1,b,b1))\n",
    "        \n",
    "        if counter==0:\n",
    "            dataset_feature_vector = data_frame_features\n",
    "            dataset_feature_vector1 = data_frame_features1\n",
    "            \n",
    "        else:\n",
    "            dataset_feature_vector = np.vstack((dataset_feature_vector, data_frame_features))\n",
    "            dataset_feature_vector1 = np.vstack((dataset_feature_vector1, data_frame_features1))\n",
    "        counter = 1;"
   ]
  },
  {
   "cell_type": "code",
   "execution_count": 19,
   "metadata": {
    "collapsed": false
   },
   "outputs": [
    {
     "data": {
      "text/plain": [
       "(71, 25)"
      ]
     },
     "execution_count": 19,
     "metadata": {},
     "output_type": "execute_result"
    }
   ],
   "source": [
    "data_frame_features.shape"
   ]
  },
  {
   "cell_type": "code",
   "execution_count": 20,
   "metadata": {
    "collapsed": false
   },
   "outputs": [
    {
     "data": {
      "text/plain": [
       "(59100, 25)"
      ]
     },
     "execution_count": 20,
     "metadata": {},
     "output_type": "execute_result"
    }
   ],
   "source": [
    "dataset_feature_vector.shape"
   ]
  },
  {
   "cell_type": "code",
   "execution_count": 21,
   "metadata": {
    "collapsed": false
   },
   "outputs": [
    {
     "data": {
      "text/plain": [
       "(41130, 25)"
      ]
     },
     "execution_count": 21,
     "metadata": {},
     "output_type": "execute_result"
    }
   ],
   "source": [
    "dataset_feature_vector1.shape"
   ]
  },
  {
   "cell_type": "code",
   "execution_count": 22,
   "metadata": {
    "collapsed": false
   },
   "outputs": [
    {
     "data": {
      "text/plain": [
       "25.0"
      ]
     },
     "execution_count": 22,
     "metadata": {},
     "output_type": "execute_result"
    }
   ],
   "source": [
    "dataset_feature_vector[1,24]"
   ]
  },
  {
   "cell_type": "code",
   "execution_count": 23,
   "metadata": {
    "collapsed": false
   },
   "outputs": [],
   "source": [
    "np.savetxt('class3_frame_var.txt',dataset_feature_vector)\n",
    "np.savetxt('class4_frame_var.txt', dataset_feature_vector1)"
   ]
  },
  {
   "cell_type": "code",
   "execution_count": 24,
   "metadata": {
    "collapsed": true
   },
   "outputs": [],
   "source": [
    "#check_f = np.loadtxt('f.txt')"
   ]
  },
  {
   "cell_type": "code",
   "execution_count": 25,
   "metadata": {
    "collapsed": false
   },
   "outputs": [],
   "source": [
    "#check_f.shape"
   ]
  },
  {
   "cell_type": "code",
   "execution_count": null,
   "metadata": {
    "collapsed": true
   },
   "outputs": [],
   "source": []
  }
 ],
 "metadata": {
  "anaconda-cloud": {},
  "kernelspec": {
   "display_name": "Python 3",
   "language": "python",
   "name": "python3"
  },
  "language_info": {
   "codemirror_mode": {
    "name": "ipython",
    "version": 3
   },
   "file_extension": ".py",
   "mimetype": "text/x-python",
   "name": "python",
   "nbconvert_exporter": "python",
   "pygments_lexer": "ipython3",
   "version": "3.4.3"
  }
 },
 "nbformat": 4,
 "nbformat_minor": 1
}
