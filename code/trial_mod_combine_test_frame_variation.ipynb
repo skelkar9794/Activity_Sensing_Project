{
 "cells": [
  {
   "cell_type": "code",
   "execution_count": 1,
   "metadata": {
    "collapsed": false
   },
   "outputs": [],
   "source": [
    "import numpy as np\n",
    "import pandas as pd\n",
    "#from pylab import *\n",
    "import scipy.signal as signal\n",
    "import scipy as sci\n",
    "import math as ma"
   ]
  },
  {
   "cell_type": "code",
   "execution_count": 2,
   "metadata": {
    "collapsed": false
   },
   "outputs": [],
   "source": [
    "data_pcl = np.loadtxt('combined_pcl_train.txt')\n",
    "data_heb = np.loadtxt('combined_heb_train.txt')\n",
    "data_gym = np.loadtxt('combined_gym_train.txt')\n",
    "data_class = np.loadtxt('combined_class_train.txt')\n",
    "\n",
    "data_pcl_test = np.loadtxt('combined_pcl_test.txt')\n",
    "data_heb_test = np.loadtxt('combined_heb_test.txt')\n",
    "data_gym_test = np.loadtxt('combined_gym_test.txt')\n",
    "data_class_test = np.loadtxt('combined_class_test.txt')\n"
   ]
  },
  {
   "cell_type": "code",
   "execution_count": 3,
   "metadata": {
    "collapsed": false
   },
   "outputs": [
    {
     "data": {
      "text/plain": [
       "(214710, 25)"
      ]
     },
     "execution_count": 3,
     "metadata": {},
     "output_type": "execute_result"
    }
   ],
   "source": [
    "data_pcl.shape"
   ]
  },
  {
   "cell_type": "code",
   "execution_count": 4,
   "metadata": {
    "collapsed": false
   },
   "outputs": [
    {
     "data": {
      "text/plain": [
       "(31950, 25)"
      ]
     },
     "execution_count": 4,
     "metadata": {},
     "output_type": "execute_result"
    }
   ],
   "source": [
    "data_gym_test.shape"
   ]
  },
  {
   "cell_type": "code",
   "execution_count": 5,
   "metadata": {
    "collapsed": true
   },
   "outputs": [],
   "source": [
    "import matplotlib.pyplot as plt\n",
    "%matplotlib inline\n",
    "#data_frame_features = np.column_stack((mn_acc_x_2, mn_acc_y_2,mn_acc_z_2,vr_acc_x_2,\n",
    "#vr_acc_y_2,vr_acc_z_2,rms_acc_x_2,rms_acc_y_2,rms_acc_z_2,mn2,vr2,mn_g_x_2,mn_g_y_2,\n",
    "#mn_g_z_2,vr_g_x_2,vr_g_y_2,vr_g_z_2,rms_g_x_2,rms_g_y_2,rms_g_z_2,mn_h_2,mn_t_2,mn_s_2,a))"
   ]
  },
  {
   "cell_type": "code",
   "execution_count": 6,
   "metadata": {
    "collapsed": false
   },
   "outputs": [],
   "source": [
    "data = np.vstack((data_heb, data_gym,data_pcl,data_class))\n",
    "data_test = np.vstack((data_pcl_test, data_heb_test, data_gym_test, data_class_test))"
   ]
  },
  {
   "cell_type": "code",
   "execution_count": 7,
   "metadata": {
    "collapsed": true
   },
   "outputs": [],
   "source": [
    "from sklearn import svm\n",
    "from sklearn import cross_validation\n",
    "from sklearn import metrics\n",
    "from sklearn.cross_validation import cross_val_score\n",
    "from sklearn.ensemble import RandomForestClassifier\n",
    "from sklearn.neighbors import KNeighborsClassifier\n",
    "from sklearn.linear_model import LogisticRegression"
   ]
  },
  {
   "cell_type": "code",
   "execution_count": 8,
   "metadata": {
    "collapsed": true
   },
   "outputs": [],
   "source": [
    "#data_frame_features = np.column_stack((mn_acc_x_2, mn_acc_y_2,mn_acc_z_2,\n",
    "#vr_acc_x_2, vr_acc_y_2,vr_acc_z_2,\n",
    "#rms_acc_x_2,rms_acc_y_2,rms_acc_z_2,\n",
    "#mn2,vr2,\n",
    "#mn_g_x_2,mn_g_y_2,mn_g_z_2,\n",
    "#vr_g_x_2,vr_g_y_2,vr_g_z_2,\n",
    "#rms_g_x_2,rms_g_y_2,rms_g_z_2,\n",
    "#mn_h_2,mn_t_2,mn_s_2,label)) "
   ]
  },
  {
   "cell_type": "code",
   "execution_count": 9,
   "metadata": {
    "collapsed": false
   },
   "outputs": [],
   "source": [
    "clf = svm.SVC(kernel='rbf', class_weight='balanced')\n",
    "\n",
    "clf1 = RandomForestClassifier(n_estimators=10)\n",
    "\n",
    "neigh = KNeighborsClassifier(n_neighbors=3)\n",
    "\n",
    "lr = LogisticRegression()"
   ]
  },
  {
   "cell_type": "code",
   "execution_count": null,
   "metadata": {
    "collapsed": true
   },
   "outputs": [],
   "source": [
    "flr = open('results_linreg.txt', 'a');"
   ]
  },
  {
   "cell_type": "code",
   "execution_count": null,
   "metadata": {
    "collapsed": false
   },
   "outputs": [],
   "source": [
    "for i in range (50,200,5):\n",
    "    for j in range (25,100,5):\n",
    "        data1 = data[np.where(data[:,23] == i) and np.where(data[:,24] == j)]\n",
    "        np.random.shuffle(data1)\n",
    "        #data1 = data1[2000:15000, :]\n",
    "        X = data1[:,:22]\n",
    "        y = data1[:,22]\n",
    "        data_test1 = data_test[np.where(data_test[:,23] == i) and np.where(data_test[:,24] == j)]\n",
    "        np.random.shuffle(data_test1)\n",
    "        #data_test1 = data_test1[2000:10000,:]\n",
    "        X_test = data_test1[:,:22]\n",
    "        y_test = data_test1[:,22]\n",
    "        #clf.fit(X,y);\n",
    "        #test_predict_svm = clf.predict(X_test)\n",
    "        #sv = metrics.accuracy_score(y_test,test_predict_svm)\n",
    "        #scores_sv = cross_validation.cross_val_score(clf, f[:,:20], f[:,20], cv=10)\n",
    "        #clf1.fit(X,y)\n",
    "        #test_predict = clf1.predict(X_test)\n",
    "        #rf = metrics.accuracy_score(y_test,test_predict)\n",
    "        #print(rf)\n",
    "        #scores_rf = cross_val_score(clf, X, y, cv=10)\n",
    "        #neigh.fit(X,y)\n",
    "        #test_predict_neigh = neigh.predict(X_test)\n",
    "        #kn = metrics.accuracy_score(y_test,test_predict_neigh)\n",
    "        #scores_kn = cross_val_score(neigh, X, y, cv=10)\n",
    "        lr.fit(X,y);\n",
    "        test_predict_lr = lr.predict(X_test)\n",
    "        linear = metrics.accuracy_score(y_test, test_predict_lr)\n",
    "        accuracy_details = np.column_stack((i,j,linear));\n",
    "        np.savetxt('meta_data91.txt', accuracy_details)\n",
    "        with open('meta_data91.txt') as infile:\n",
    "            for line in infile:\n",
    "                flr.write(line)\n",
    "        accuracy_details"
   ]
  },
  {
   "cell_type": "code",
   "execution_count": null,
   "metadata": {
    "collapsed": false
   },
   "outputs": [],
   "source": [
    "#for i in range (50,60,5):\n",
    " #   for j in range (25,30,5):\n",
    "        #data1 = data[np.where(data[:,23] == i) and np.where(data[:,24] == j)]\n",
    "        #X = data1[:,:22]\n",
    "        #y = data1[:,22]\n",
    "        #data_test1 = data_test[np.where(data[:,23] == i) and np.where(data[:,24] == j)]\n",
    "        #X_test = data_test1[:,:22]\n",
    "        #y_test = data_test1[:,22]\n",
    "        #clf.fit(X,y);\n",
    "        #test_predict_svm = clf.predict(X_test)\n",
    "        #sv = metrics.accuracy_score(y_test,test_predict_svm)\n",
    "        #scores_sv = cross_validation.cross_val_score(clf, f[:,:20], f[:,20], cv=10)\n",
    "        #clf1.fit(X,y)\n",
    "        #test_predict = clf1.predict(X_test)\n",
    "        #rf = metrics.accuracy_score(y_test,test_predict)\n",
    "        #scores_rf = cross_val_score(clf, X, y, cv=10)\n",
    "        #neigh.fit(X,y)\n",
    "        #test_predict_neigh = neigh.predict(X_test)\n",
    "        #kn = metrics.accuracy_score(y_test,test_predict_neigh)\n",
    "        #scores_kn = cross_val_score(neigh, X, y, cv=10)\n",
    "        #accuracy_details = np.column_stack((i,j,sv, scores_sv, rf, scores_rf, kn, scores_kn));\n",
    "        #np.savetxt(f,accuracy_details)"
   ]
  },
  {
   "cell_type": "code",
   "execution_count": null,
   "metadata": {
    "collapsed": false
   },
   "outputs": [],
   "source": [
    "flr.close"
   ]
  }
 ],
 "metadata": {
  "anaconda-cloud": {},
  "kernelspec": {
   "display_name": "Python 3",
   "language": "python",
   "name": "python3"
  },
  "language_info": {
   "codemirror_mode": {
    "name": "ipython",
    "version": 3
   },
   "file_extension": ".py",
   "mimetype": "text/x-python",
   "name": "python",
   "nbconvert_exporter": "python",
   "pygments_lexer": "ipython3",
   "version": "3.4.3"
  }
 },
 "nbformat": 4,
 "nbformat_minor": 1
}
