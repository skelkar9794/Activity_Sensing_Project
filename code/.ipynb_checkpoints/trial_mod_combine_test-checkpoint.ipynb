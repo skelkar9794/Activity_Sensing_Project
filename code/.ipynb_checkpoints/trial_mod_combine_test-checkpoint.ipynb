{
 "cells": [
  {
   "cell_type": "code",
   "execution_count": 1900,
   "metadata": {
    "collapsed": false
   },
   "outputs": [],
   "source": [
    "import numpy as np\n",
    "import pandas as pd\n",
    "#from pylab import *\n",
    "import scipy.signal as signal\n",
    "import scipy as sci\n",
    "import math as ma"
   ]
  },
  {
   "cell_type": "code",
   "execution_count": 1901,
   "metadata": {
    "collapsed": false
   },
   "outputs": [],
   "source": [
    "data_heb1 = np.loadtxt('heb1.txt')\n",
    "data_heb2 = np.loadtxt('heb2.txt')\n",
    "data_heb3 = np.loadtxt('heb3.txt')\n",
    "data_heb4 = np.loadtxt('heb4.txt')\n",
    "\n",
    "data_pcl1 = np.loadtxt('pcl1.txt')\n",
    "data_pcl_j = np.loadtxt('pcl_j2.txt')\n",
    "\n",
    "data_gym1 = np.loadtxt('gym1.txt')\n",
    "data_gym2 = np.loadtxt('gym2.txt')\n",
    "\n",
    "\n",
    "data_rec1 = np.loadtxt('rec1.txt')\n",
    "\n",
    "data_class1 = np.loadtxt('class1.txt')\n",
    "data_class2 = np.loadtxt('class2.txt')\n",
    "data_class3 = np.loadtxt('class3.txt')\n",
    "data_class4 = np.loadtxt('class4.txt')\n"
   ]
  },
  {
   "cell_type": "code",
   "execution_count": 1902,
   "metadata": {
    "collapsed": false
   },
   "outputs": [
    {
     "data": {
      "text/plain": [
       "(32, 23)"
      ]
     },
     "execution_count": 1902,
     "metadata": {},
     "output_type": "execute_result"
    }
   ],
   "source": [
    "data_heb1.shape"
   ]
  },
  {
   "cell_type": "code",
   "execution_count": 1903,
   "metadata": {
    "collapsed": false
   },
   "outputs": [
    {
     "data": {
      "text/plain": [
       "(93, 23)"
      ]
     },
     "execution_count": 1903,
     "metadata": {},
     "output_type": "execute_result"
    }
   ],
   "source": [
    "data_heb2.shape"
   ]
  },
  {
   "cell_type": "code",
   "execution_count": 1904,
   "metadata": {
    "collapsed": false
   },
   "outputs": [
    {
     "data": {
      "text/plain": [
       "(219, 23)"
      ]
     },
     "execution_count": 1904,
     "metadata": {},
     "output_type": "execute_result"
    }
   ],
   "source": [
    "data_pcl1.shape"
   ]
  },
  {
   "cell_type": "code",
   "execution_count": 1905,
   "metadata": {
    "collapsed": false
   },
   "outputs": [
    {
     "data": {
      "text/plain": [
       "(215, 23)"
      ]
     },
     "execution_count": 1905,
     "metadata": {},
     "output_type": "execute_result"
    }
   ],
   "source": [
    "data_gym1.shape"
   ]
  },
  {
   "cell_type": "code",
   "execution_count": 1906,
   "metadata": {
    "collapsed": false
   },
   "outputs": [
    {
     "data": {
      "text/plain": [
       "(16, 23)"
      ]
     },
     "execution_count": 1906,
     "metadata": {},
     "output_type": "execute_result"
    }
   ],
   "source": [
    "data_pcl_j.shape"
   ]
  },
  {
   "cell_type": "code",
   "execution_count": 1907,
   "metadata": {
    "collapsed": false
   },
   "outputs": [
    {
     "data": {
      "text/plain": [
       "(106, 23)"
      ]
     },
     "execution_count": 1907,
     "metadata": {},
     "output_type": "execute_result"
    }
   ],
   "source": [
    "data_gym2.shape"
   ]
  },
  {
   "cell_type": "code",
   "execution_count": 1908,
   "metadata": {
    "collapsed": false
   },
   "outputs": [
    {
     "data": {
      "text/plain": [
       "(215, 23)"
      ]
     },
     "execution_count": 1908,
     "metadata": {},
     "output_type": "execute_result"
    }
   ],
   "source": [
    "data_rec1.shape"
   ]
  },
  {
   "cell_type": "code",
   "execution_count": 1909,
   "metadata": {
    "collapsed": false
   },
   "outputs": [
    {
     "data": {
      "text/plain": [
       "(94, 23)"
      ]
     },
     "execution_count": 1909,
     "metadata": {},
     "output_type": "execute_result"
    }
   ],
   "source": [
    "data_class1.shape"
   ]
  },
  {
   "cell_type": "code",
   "execution_count": 1910,
   "metadata": {
    "collapsed": false,
    "scrolled": true
   },
   "outputs": [
    {
     "data": {
      "text/plain": [
       "(86, 23)"
      ]
     },
     "execution_count": 1910,
     "metadata": {},
     "output_type": "execute_result"
    }
   ],
   "source": [
    "data_class2.shape"
   ]
  },
  {
   "cell_type": "code",
   "execution_count": 1911,
   "metadata": {
    "collapsed": false
   },
   "outputs": [],
   "source": [
    "data_pcl1[:,22] = 1\n",
    "data_pcl_j[:,22] = 1\n",
    "\n",
    "\n",
    "data_heb1[:,22] = 2\n",
    "data_heb2[:,22] = 2\n",
    "data_heb3[:,22] = 2\n",
    "data_heb4[:,22] = 2\n",
    "\n",
    "data_gym1[:,22] = 3\n",
    "data_gym2[:,22] = 3 \n",
    "data_rec1[:,22] = 3\n",
    "data_class1[:,22] = 4\n",
    "data_class2[:,22] = 4\n",
    "data_class3[:,22] = 4\n",
    "data_class4[:,22] = 4"
   ]
  },
  {
   "cell_type": "code",
   "execution_count": null,
   "metadata": {
    "collapsed": false
   },
   "outputs": [],
   "source": []
  },
  {
   "cell_type": "code",
   "execution_count": 1912,
   "metadata": {
    "collapsed": true
   },
   "outputs": [],
   "source": [
    "import matplotlib.pyplot as plt\n",
    "%matplotlib inline\n",
    "#data_frame_features = np.column_stack((mn_acc_x_2, mn_acc_y_2,mn_acc_z_2,vr_acc_x_2,\n",
    "#vr_acc_y_2,vr_acc_z_2,rms_acc_x_2,rms_acc_y_2,rms_acc_z_2,mn2,vr2,mn_g_x_2,mn_g_y_2,\n",
    "#mn_g_z_2,vr_g_x_2,vr_g_y_2,vr_g_z_2,rms_g_x_2,rms_g_y_2,rms_g_z_2,mn_h_2,mn_t_2,mn_s_2,a))"
   ]
  },
  {
   "cell_type": "code",
   "execution_count": 1913,
   "metadata": {
    "collapsed": false
   },
   "outputs": [],
   "source": [
    "#plt.plot(data_heb2[:,2])"
   ]
  },
  {
   "cell_type": "code",
   "execution_count": 1914,
   "metadata": {
    "collapsed": false
   },
   "outputs": [],
   "source": [
    "#plt.plot(data_pcl_j[:,2])"
   ]
  },
  {
   "cell_type": "code",
   "execution_count": 1915,
   "metadata": {
    "collapsed": false
   },
   "outputs": [],
   "source": [
    "#plt.plot(data_pcl1[:,2])"
   ]
  },
  {
   "cell_type": "code",
   "execution_count": 1916,
   "metadata": {
    "collapsed": false
   },
   "outputs": [],
   "source": [
    "#plt.plot(data_heb2[:,6])"
   ]
  },
  {
   "cell_type": "code",
   "execution_count": 1917,
   "metadata": {
    "collapsed": false
   },
   "outputs": [],
   "source": [
    "#plt.plot(data_pcl_j[:,6])"
   ]
  },
  {
   "cell_type": "code",
   "execution_count": 1918,
   "metadata": {
    "collapsed": false
   },
   "outputs": [],
   "source": [
    "#plt.plot(data_gym1[:,6])"
   ]
  },
  {
   "cell_type": "code",
   "execution_count": 1919,
   "metadata": {
    "collapsed": false
   },
   "outputs": [],
   "source": [
    "#plt.plot(data_pcl1[:,6])"
   ]
  },
  {
   "cell_type": "code",
   "execution_count": 1920,
   "metadata": {
    "collapsed": false
   },
   "outputs": [],
   "source": [
    "#plt.plot(data_pcl1[:,6])"
   ]
  },
  {
   "cell_type": "code",
   "execution_count": 1921,
   "metadata": {
    "collapsed": false
   },
   "outputs": [],
   "source": [
    "#lin = np.linspace(0,31,31)\n",
    "#plt.figure\n",
    "#plt.plot(lin,data_heb2[:,9], 'r',lin,data_pcl1[:,9], 'g',lin,data_gym1[:,9],'b');#, lin, q[700:1000], 'g');\n",
    "#plt.grid(True);\n",
    "#plt.show();"
   ]
  },
  {
   "cell_type": "code",
   "execution_count": 1922,
   "metadata": {
    "collapsed": false
   },
   "outputs": [],
   "source": [
    "#lin = np.linspace(0,31,31)\n",
    "#plt.figure\n",
    "#plt.plot(lin,data_heb2[:,10], 'r',lin,data_pcl1[:,10], 'g',lin,data_gym1[:,10], 'b');#, lin, q[700:1000], 'g');\n",
    "#plt.grid(True);\n",
    "#plt.show();"
   ]
  },
  {
   "cell_type": "code",
   "execution_count": 1923,
   "metadata": {
    "collapsed": false
   },
   "outputs": [],
   "source": [
    "#lin = np.linspace(0,31,31)\n",
    "#plt.figure\n",
    "#plt.plot(lin,data_heb2[:,17], 'r',lin,data_pcl1[:,17], 'g',lin,data_gym1[:,17], 'b');#, lin, q[700:1000], 'g');\n",
    "#plt.grid(True);\n",
    "#plt.show();"
   ]
  },
  {
   "cell_type": "code",
   "execution_count": 1924,
   "metadata": {
    "collapsed": false
   },
   "outputs": [],
   "source": [
    "#lin = np.linspace(0,31,31)\n",
    "#plt.figure\n",
    "#plt.plot(lin,data_heb2[:,20], 'r',lin,data_pcl1[:,20], 'g',lin,data_gym1[:,20], 'b');#, lin, q[700:1000], 'g');\n",
    "#plt.grid(True);\n",
    "#plt.show();"
   ]
  },
  {
   "cell_type": "code",
   "execution_count": 1925,
   "metadata": {
    "collapsed": false
   },
   "outputs": [],
   "source": [
    "#lin = np.linspace(0,31,31)\n",
    "#plt.figure\n",
    "#plt.plot(lin,data_heb2[:,12], 'r',lin,data_pcl1[:,12], 'g',lin,data_gym1[:,12], 'b');#, lin, q[700:1000], 'g');\n",
    "#plt.grid(True);\n",
    "#plt.show();"
   ]
  },
  {
   "cell_type": "code",
   "execution_count": 1926,
   "metadata": {
    "collapsed": false
   },
   "outputs": [],
   "source": [
    "#lin = np.linspace(0,31,31)\n",
    "#plt.figure\n",
    "#plt.plot(lin,data_heb2[:,11], 'r',lin,data_pcl1[:,11], 'g',lin,data_gym1[:,11], 'b');#, lin, q[700:1000], 'g');\n",
    "#plt.grid(True);\n",
    "#plt.show();"
   ]
  },
  {
   "cell_type": "code",
   "execution_count": 1927,
   "metadata": {
    "collapsed": false
   },
   "outputs": [],
   "source": [
    "#lin = np.linspace(0,63,63)\n",
    "#plt.figure\n",
    "#plt.plot(lin,data_heb2[:,11], 'r',lin,data_pcl_j[:,11], 'g');#, lin, q[700:1000], 'g');\n",
    "#plt.grid(True);\n",
    "#plt.show();"
   ]
  },
  {
   "cell_type": "code",
   "execution_count": 1928,
   "metadata": {
    "collapsed": false,
    "scrolled": true
   },
   "outputs": [],
   "source": [
    "#plt.plot(data_pcl1[:,10])"
   ]
  },
  {
   "cell_type": "code",
   "execution_count": 1929,
   "metadata": {
    "collapsed": false
   },
   "outputs": [],
   "source": [
    "#data = np.vstack((data_heb2,data_pcl1,data_gym1))\n",
    "#data_heb2 = data_heb2[20:51,:]\n",
    "#data_pcl_j = data_pcl_j[20:51,:]\n",
    "#data = np.vstack((data_heb2,data_pcl_j,data_gym1,data_pcl1))\n",
    "data_pcl1[:,22] = 1\n",
    "data_pcl_j[:,22] = 1\n",
    "\n",
    "\n",
    "data_heb1[:,22] = 2\n",
    "data_heb2[:,22] = 2\n",
    "data_heb3[:,22] = 2\n",
    "data_heb4[:,22] = 2\n",
    "\n",
    "data_gym1[:,22] = 3\n",
    "data_gym2[:,22] = 3 \n",
    "data_rec1[:,22] = 3\n",
    "data_class1[:,22] = 4\n",
    "data_class2[:,22] = 4\n",
    "data_class4[:,22] = 4\n",
    "data_class3[:,22] = 4\n",
    "data = np.vstack((data_heb3, data_gym2,data_pcl1,data_heb4, data_heb2,data_gym1, data_class2, data_class3, data_class4))"
   ]
  },
  {
   "cell_type": "code",
   "execution_count": 1930,
   "metadata": {
    "collapsed": false
   },
   "outputs": [],
   "source": [
    "f = np.column_stack((data[:,0:20],data[:,22]))\n",
    "#f = data[:,11:]\n",
    "\n",
    "#f"
   ]
  },
  {
   "cell_type": "code",
   "execution_count": 1931,
   "metadata": {
    "collapsed": false
   },
   "outputs": [
    {
     "data": {
      "text/plain": [
       "(1030, 21)"
      ]
     },
     "execution_count": 1931,
     "metadata": {},
     "output_type": "execute_result"
    }
   ],
   "source": [
    "f.shape"
   ]
  },
  {
   "cell_type": "code",
   "execution_count": 1932,
   "metadata": {
    "collapsed": false
   },
   "outputs": [],
   "source": [
    "X = data[:,:22]\n",
    "y = data[:,22]\n",
    "#X = f[:,:22]\n",
    "#y = f[:,23]\n",
    "\n",
    "#X_test = data_rec1[:,:22]\n",
    "#y_test = data_rec1[:,22]\n",
    "\n",
    "#X_test = data_pcl_j[:,:22]\n",
    "#y_test = data_pcl_j[:,22]\n",
    "\n",
    "#X_test = data_heb1[:,:22]\n",
    "#y_test = data_heb1[:,22]\n",
    "#X_test = data_rec_oct27[:,:22]\n",
    "#y_test = data_rec_oct27[:,22]\n",
    "X_test = data_class1[:,:22]\n",
    "y_test = data_class1[:,22]"
   ]
  },
  {
   "cell_type": "code",
   "execution_count": null,
   "metadata": {
    "collapsed": false
   },
   "outputs": [],
   "source": []
  },
  {
   "cell_type": "code",
   "execution_count": 1933,
   "metadata": {
    "collapsed": false
   },
   "outputs": [],
   "source": [
    "#data_frame_features = np.column_stack((mn_acc_x_2, mn_acc_y_2,mn_acc_z_2,\n",
    "#vr_acc_x_2, vr_acc_y_2,vr_acc_z_2,\n",
    "#rms_acc_x_2,rms_acc_y_2,rms_acc_z_2,\n",
    "#mn2,vr2,\n",
    "#mn_g_x_2,mn_g_y_2,mn_g_z_2,\n",
    "#vr_g_x_2,vr_g_y_2,vr_g_z_2,\n",
    "#rms_g_x_2,rms_g_y_2,rms_g_z_2,\n",
    "#mn_h_2,mn_t_2,mn_s_2,label)) "
   ]
  },
  {
   "cell_type": "code",
   "execution_count": 1934,
   "metadata": {
    "collapsed": false
   },
   "outputs": [
    {
     "data": {
      "text/plain": [
       "(1030, 23)"
      ]
     },
     "execution_count": 1934,
     "metadata": {},
     "output_type": "execute_result"
    }
   ],
   "source": [
    "data.shape"
   ]
  },
  {
   "cell_type": "code",
   "execution_count": 1935,
   "metadata": {
    "collapsed": false
   },
   "outputs": [],
   "source": [
    "np.random.shuffle(data)"
   ]
  },
  {
   "cell_type": "code",
   "execution_count": 1936,
   "metadata": {
    "collapsed": true
   },
   "outputs": [],
   "source": [
    "np.random.shuffle(f)"
   ]
  },
  {
   "cell_type": "code",
   "execution_count": 1937,
   "metadata": {
    "collapsed": false
   },
   "outputs": [
    {
     "data": {
      "text/plain": [
       "(1030, 23)"
      ]
     },
     "execution_count": 1937,
     "metadata": {},
     "output_type": "execute_result"
    }
   ],
   "source": [
    "data.shape"
   ]
  },
  {
   "cell_type": "code",
   "execution_count": null,
   "metadata": {
    "collapsed": false
   },
   "outputs": [],
   "source": []
  },
  {
   "cell_type": "code",
   "execution_count": 1938,
   "metadata": {
    "collapsed": true
   },
   "outputs": [],
   "source": [
    "from sklearn import svm\n",
    "from sklearn import cross_validation"
   ]
  },
  {
   "cell_type": "code",
   "execution_count": 1939,
   "metadata": {
    "collapsed": true
   },
   "outputs": [],
   "source": [
    "clf = svm.SVC(kernel='rbf', class_weight='balanced')"
   ]
  },
  {
   "cell_type": "code",
   "execution_count": 1940,
   "metadata": {
    "collapsed": false
   },
   "outputs": [
    {
     "data": {
      "text/plain": [
       "SVC(C=1.0, cache_size=200, class_weight='balanced', coef0=0.0,\n",
       "  decision_function_shape=None, degree=3, gamma='auto', kernel='rbf',\n",
       "  max_iter=-1, probability=False, random_state=None, shrinking=True,\n",
       "  tol=0.001, verbose=False)"
      ]
     },
     "execution_count": 1940,
     "metadata": {},
     "output_type": "execute_result"
    }
   ],
   "source": [
    "clf.fit(X,y)"
   ]
  },
  {
   "cell_type": "code",
   "execution_count": 1941,
   "metadata": {
    "collapsed": false
   },
   "outputs": [],
   "source": [
    "test_predict_svm = clf.predict(X_test)"
   ]
  },
  {
   "cell_type": "code",
   "execution_count": 1942,
   "metadata": {
    "collapsed": false
   },
   "outputs": [
    {
     "name": "stdout",
     "output_type": "stream",
     "text": [
      "0.978723404255\n"
     ]
    }
   ],
   "source": [
    "from sklearn import metrics\n",
    "print(metrics.accuracy_score(y_test,test_predict_svm))"
   ]
  },
  {
   "cell_type": "code",
   "execution_count": 1943,
   "metadata": {
    "collapsed": false
   },
   "outputs": [
    {
     "name": "stdout",
     "output_type": "stream",
     "text": [
      "Accuracy: 0.35 (+/- 0.04)\n"
     ]
    }
   ],
   "source": [
    "#scores = cross_validation.cross_val_score(clf, data[:,:23], data[:,23], cv=10)\n",
    "scores = cross_validation.cross_val_score(clf, f[:,:20], f[:,20], cv=10)\n",
    "\n",
    "print(\"Accuracy: %0.2f (+/- %0.2f)\" % (scores.mean(), scores.std() * 2))"
   ]
  },
  {
   "cell_type": "code",
   "execution_count": 1944,
   "metadata": {
    "collapsed": false
   },
   "outputs": [],
   "source": [
    "X = data[:,:22]\n",
    "y = data[:,22]\n",
    "#X = f[:,:20]\n",
    "#y = f[:,20]"
   ]
  },
  {
   "cell_type": "code",
   "execution_count": 1945,
   "metadata": {
    "collapsed": true
   },
   "outputs": [],
   "source": [
    "from sklearn.cross_validation import cross_val_score\n",
    "from sklearn.ensemble import RandomForestClassifier\n",
    "clf = RandomForestClassifier(n_estimators=10)"
   ]
  },
  {
   "cell_type": "code",
   "execution_count": 1946,
   "metadata": {
    "collapsed": false
   },
   "outputs": [
    {
     "data": {
      "text/plain": [
       "RandomForestClassifier(bootstrap=True, class_weight=None, criterion='gini',\n",
       "            max_depth=None, max_features='auto', max_leaf_nodes=None,\n",
       "            min_samples_leaf=1, min_samples_split=2,\n",
       "            min_weight_fraction_leaf=0.0, n_estimators=10, n_jobs=1,\n",
       "            oob_score=False, random_state=None, verbose=0,\n",
       "            warm_start=False)"
      ]
     },
     "execution_count": 1946,
     "metadata": {},
     "output_type": "execute_result"
    }
   ],
   "source": [
    "clf.fit(X,y)"
   ]
  },
  {
   "cell_type": "code",
   "execution_count": 1947,
   "metadata": {
    "collapsed": false
   },
   "outputs": [],
   "source": [
    "test_predict = clf.predict(X_test)"
   ]
  },
  {
   "cell_type": "code",
   "execution_count": 1948,
   "metadata": {
    "collapsed": false
   },
   "outputs": [
    {
     "name": "stdout",
     "output_type": "stream",
     "text": [
      "0.372340425532\n"
     ]
    }
   ],
   "source": [
    "print(metrics.accuracy_score(y_test,test_predict))"
   ]
  },
  {
   "cell_type": "code",
   "execution_count": 1949,
   "metadata": {
    "collapsed": true
   },
   "outputs": [],
   "source": [
    "scores = cross_val_score(clf, X, y, cv=10)"
   ]
  },
  {
   "cell_type": "code",
   "execution_count": 1950,
   "metadata": {
    "collapsed": false
   },
   "outputs": [
    {
     "name": "stdout",
     "output_type": "stream",
     "text": [
      "Accuracy: 0.97 (+/- 0.02)\n"
     ]
    }
   ],
   "source": [
    "print(\"Accuracy: %0.2f (+/- %0.2f)\" % (scores.mean(), scores.std() * 2))"
   ]
  },
  {
   "cell_type": "code",
   "execution_count": 1951,
   "metadata": {
    "collapsed": true
   },
   "outputs": [],
   "source": [
    "from sklearn.neighbors import KNeighborsClassifier\n",
    "neigh = KNeighborsClassifier(n_neighbors=3)"
   ]
  },
  {
   "cell_type": "code",
   "execution_count": 1952,
   "metadata": {
    "collapsed": false
   },
   "outputs": [
    {
     "data": {
      "text/plain": [
       "KNeighborsClassifier(algorithm='auto', leaf_size=30, metric='minkowski',\n",
       "           metric_params=None, n_jobs=1, n_neighbors=3, p=2,\n",
       "           weights='uniform')"
      ]
     },
     "execution_count": 1952,
     "metadata": {},
     "output_type": "execute_result"
    }
   ],
   "source": [
    "neigh.fit(X,y)"
   ]
  },
  {
   "cell_type": "code",
   "execution_count": 1953,
   "metadata": {
    "collapsed": true
   },
   "outputs": [],
   "source": [
    "test_predict_neigh = neigh.predict(X_test)"
   ]
  },
  {
   "cell_type": "code",
   "execution_count": 1954,
   "metadata": {
    "collapsed": false
   },
   "outputs": [
    {
     "name": "stdout",
     "output_type": "stream",
     "text": [
      "0.829787234043\n"
     ]
    }
   ],
   "source": [
    "print(metrics.accuracy_score(y_test,test_predict_neigh))"
   ]
  },
  {
   "cell_type": "code",
   "execution_count": 1955,
   "metadata": {
    "collapsed": false
   },
   "outputs": [],
   "source": [
    "scores = cross_val_score(neigh, X, y, cv=10)"
   ]
  },
  {
   "cell_type": "code",
   "execution_count": 1956,
   "metadata": {
    "collapsed": false
   },
   "outputs": [
    {
     "name": "stdout",
     "output_type": "stream",
     "text": [
      "Accuracy: 0.58 (+/- 0.12)\n"
     ]
    }
   ],
   "source": [
    "print(\"Accuracy: %0.2f (+/- %0.2f)\" % (scores.mean(), scores.std() * 2))"
   ]
  },
  {
   "cell_type": "code",
   "execution_count": null,
   "metadata": {
    "collapsed": true
   },
   "outputs": [],
   "source": []
  },
  {
   "cell_type": "code",
   "execution_count": null,
   "metadata": {
    "collapsed": true
   },
   "outputs": [],
   "source": []
  }
 ],
 "metadata": {
  "anaconda-cloud": {},
  "kernelspec": {
   "display_name": "Python 3",
   "language": "python",
   "name": "python3"
  },
  "language_info": {
   "codemirror_mode": {
    "name": "ipython",
    "version": 3
   },
   "file_extension": ".py",
   "mimetype": "text/x-python",
   "name": "python",
   "nbconvert_exporter": "python",
   "pygments_lexer": "ipython3",
   "version": "3.4.3"
  }
 },
 "nbformat": 4,
 "nbformat_minor": 1
}
