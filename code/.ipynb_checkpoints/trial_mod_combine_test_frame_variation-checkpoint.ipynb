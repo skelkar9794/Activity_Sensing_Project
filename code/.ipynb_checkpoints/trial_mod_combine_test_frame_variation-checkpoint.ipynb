{
 "cells": [
  {
   "cell_type": "code",
   "execution_count": 1,
   "metadata": {
    "collapsed": false
   },
   "outputs": [],
   "source": [
    "import numpy as np\n",
    "import pandas as pd\n",
    "#from pylab import *\n",
    "import scipy.signal as signal\n",
    "import scipy as sci\n",
    "import math as ma"
   ]
  },
  {
   "cell_type": "code",
   "execution_count": 2,
   "metadata": {
    "collapsed": false
   },
   "outputs": [],
   "source": [
    "data_heb1 = np.loadtxt('heb1.txt')\n",
    "data_heb2 = np.loadtxt('heb2.txt')\n",
    "data_heb3 = np.loadtxt('heb3.txt')\n",
    "data_heb4 = np.loadtxt('heb4.txt')\n",
    "\n",
    "data_pcl1 = np.loadtxt('pcl1.txt')\n",
    "data_pcl_j = np.loadtxt('pcl_j2.txt')\n",
    "data_pcl2 = np.loadtxt('pcl2.txt')\n",
    "\n",
    "data_gym1 = np.loadtxt('gym1.txt')\n",
    "data_gym2 = np.loadtxt('gym2.txt')\n",
    "\n",
    "\n",
    "data_rec1 = np.loadtxt('rec1.txt')\n",
    "\n",
    "data_class1 = np.loadtxt('class1.txt')\n",
    "data_class2 = np.loadtxt('class2.txt')\n",
    "data_class3 = np.loadtxt('class3_frame_var.txt')\n",
    "data_class4 = np.loadtxt('class4_frame_var.txt')"
   ]
  },
  {
   "cell_type": "code",
   "execution_count": 3,
   "metadata": {
    "collapsed": false
   },
   "outputs": [
    {
     "data": {
      "text/plain": [
       "(32, 23)"
      ]
     },
     "execution_count": 3,
     "metadata": {},
     "output_type": "execute_result"
    }
   ],
   "source": [
    "data_heb1.shape"
   ]
  },
  {
   "cell_type": "code",
   "execution_count": 6,
   "metadata": {
    "collapsed": false
   },
   "outputs": [
    {
     "data": {
      "text/plain": [
       "array([ 25.,  25.,  25.,  25.])"
      ]
     },
     "execution_count": 6,
     "metadata": {},
     "output_type": "execute_result"
    }
   ],
   "source": [
    "data_class4[1:5,24]"
   ]
  },
  {
   "cell_type": "code",
   "execution_count": 1903,
   "metadata": {
    "collapsed": false
   },
   "outputs": [
    {
     "data": {
      "text/plain": [
       "(93, 23)"
      ]
     },
     "execution_count": 1903,
     "metadata": {},
     "output_type": "execute_result"
    }
   ],
   "source": [
    "data_heb2.shape"
   ]
  },
  {
   "cell_type": "code",
   "execution_count": 1904,
   "metadata": {
    "collapsed": false
   },
   "outputs": [
    {
     "data": {
      "text/plain": [
       "(219, 23)"
      ]
     },
     "execution_count": 1904,
     "metadata": {},
     "output_type": "execute_result"
    }
   ],
   "source": [
    "data_pcl1.shape"
   ]
  },
  {
   "cell_type": "code",
   "execution_count": 1905,
   "metadata": {
    "collapsed": false
   },
   "outputs": [
    {
     "data": {
      "text/plain": [
       "(215, 23)"
      ]
     },
     "execution_count": 1905,
     "metadata": {},
     "output_type": "execute_result"
    }
   ],
   "source": [
    "data_gym1.shape"
   ]
  },
  {
   "cell_type": "code",
   "execution_count": 1906,
   "metadata": {
    "collapsed": false
   },
   "outputs": [
    {
     "data": {
      "text/plain": [
       "(16, 23)"
      ]
     },
     "execution_count": 1906,
     "metadata": {},
     "output_type": "execute_result"
    }
   ],
   "source": [
    "data_pcl_j.shape"
   ]
  },
  {
   "cell_type": "code",
   "execution_count": 1907,
   "metadata": {
    "collapsed": false
   },
   "outputs": [
    {
     "data": {
      "text/plain": [
       "(106, 23)"
      ]
     },
     "execution_count": 1907,
     "metadata": {},
     "output_type": "execute_result"
    }
   ],
   "source": [
    "data_gym2.shape"
   ]
  },
  {
   "cell_type": "code",
   "execution_count": 1908,
   "metadata": {
    "collapsed": false
   },
   "outputs": [
    {
     "data": {
      "text/plain": [
       "(215, 23)"
      ]
     },
     "execution_count": 1908,
     "metadata": {},
     "output_type": "execute_result"
    }
   ],
   "source": [
    "data_rec1.shape"
   ]
  },
  {
   "cell_type": "code",
   "execution_count": 1909,
   "metadata": {
    "collapsed": false
   },
   "outputs": [
    {
     "data": {
      "text/plain": [
       "(94, 23)"
      ]
     },
     "execution_count": 1909,
     "metadata": {},
     "output_type": "execute_result"
    }
   ],
   "source": [
    "data_class1.shape"
   ]
  },
  {
   "cell_type": "code",
   "execution_count": 1910,
   "metadata": {
    "collapsed": false,
    "scrolled": true
   },
   "outputs": [
    {
     "data": {
      "text/plain": [
       "(86, 23)"
      ]
     },
     "execution_count": 1910,
     "metadata": {},
     "output_type": "execute_result"
    }
   ],
   "source": [
    "data_class2.shape"
   ]
  },
  {
   "cell_type": "code",
   "execution_count": 1911,
   "metadata": {
    "collapsed": false
   },
   "outputs": [],
   "source": [
    "data_pcl1[:,22] = 1\n",
    "data_pcl_j[:,22] = 1\n",
    "data_pcl2[:,22] = 1\n",
    "\n",
    "data_heb1[:,22] = 2\n",
    "data_heb2[:,22] = 2\n",
    "data_heb3[:,22] = 2\n",
    "data_heb4[:,22] = 2\n",
    "\n",
    "data_gym1[:,22] = 3\n",
    "data_gym2[:,22] = 3 \n",
    "data_rec1[:,22] = 3\n",
    "data_class1[:,22] = 4\n",
    "data_class2[:,22] = 4\n",
    "data_class3[:,22] = 4\n",
    "data_class4[:,22] = 4"
   ]
  },
  {
   "cell_type": "code",
   "execution_count": null,
   "metadata": {
    "collapsed": false
   },
   "outputs": [],
   "source": []
  },
  {
   "cell_type": "code",
   "execution_count": 1912,
   "metadata": {
    "collapsed": true
   },
   "outputs": [],
   "source": [
    "import matplotlib.pyplot as plt\n",
    "%matplotlib inline\n",
    "#data_frame_features = np.column_stack((mn_acc_x_2, mn_acc_y_2,mn_acc_z_2,vr_acc_x_2,\n",
    "#vr_acc_y_2,vr_acc_z_2,rms_acc_x_2,rms_acc_y_2,rms_acc_z_2,mn2,vr2,mn_g_x_2,mn_g_y_2,\n",
    "#mn_g_z_2,vr_g_x_2,vr_g_y_2,vr_g_z_2,rms_g_x_2,rms_g_y_2,rms_g_z_2,mn_h_2,mn_t_2,mn_s_2,a))"
   ]
  },
  {
   "cell_type": "code",
   "execution_count": 1929,
   "metadata": {
    "collapsed": false
   },
   "outputs": [],
   "source": [
    "#data = np.vstack((data_heb2,data_pcl1,data_gym1))\n",
    "#data_heb2 = data_heb2[20:51,:]\n",
    "#data_pcl_j = data_pcl_j[20:51,:]\n",
    "#data = np.vstack((data_heb2,data_pcl_j,data_gym1,data_pcl1))\n",
    "data_pcl1[:,22] = 1\n",
    "data_pcl_j[:,22] = 1\n",
    "data_pcl2[:,22] = 1\n",
    "\n",
    "data_heb1[:,22] = 2\n",
    "data_heb2[:,22] = 2\n",
    "data_heb3[:,22] = 2\n",
    "data_heb4[:,22] = 2\n",
    "\n",
    "data_gym1[:,22] = 3\n",
    "data_gym2[:,22] = 3 \n",
    "data_rec1[:,22] = 3\n",
    "data_class1[:,22] = 4\n",
    "data_class2[:,22] = 4\n",
    "data_class4[:,22] = 4\n",
    "data_class3[:,22] = 4\n",
    "data = np.vstack((data_heb3, data_gym2,data_pcl1,data_heb4, data_heb2,data_gym1, data_class2, data_class3, data_class4))"
   ]
  },
  {
   "cell_type": "code",
   "execution_count": 1930,
   "metadata": {
    "collapsed": false
   },
   "outputs": [],
   "source": [
    "f = np.column_stack((data[:,0:20],data[:,22:25]))\n",
    "#f = data[:,11:]\n",
    "\n",
    "#f\n",
    "data_bkp = data\n",
    "f_bkp = f"
   ]
  },
  {
   "cell_type": "code",
   "execution_count": 1931,
   "metadata": {
    "collapsed": false
   },
   "outputs": [
    {
     "data": {
      "text/plain": [
       "(1030, 21)"
      ]
     },
     "execution_count": 1931,
     "metadata": {},
     "output_type": "execute_result"
    }
   ],
   "source": [
    "f.shape"
   ]
  },
  {
   "cell_type": "code",
   "execution_count": 1,
   "metadata": {
    "collapsed": true
   },
   "outputs": [],
   "source": [
    "from sklearn import svm\n",
    "from sklearn import cross_validation\n",
    "from sklearn import metrics\n",
    "from sklearn.cross_validation import cross_val_score\n",
    "from sklearn.ensemble import RandomForestClassifier\n",
    "from sklearn.neighbors import KNeighborsClassifier"
   ]
  },
  {
   "cell_type": "code",
   "execution_count": null,
   "metadata": {
    "collapsed": true
   },
   "outputs": [],
   "source": [
    "#data_frame_features = np.column_stack((mn_acc_x_2, mn_acc_y_2,mn_acc_z_2,\n",
    "#vr_acc_x_2, vr_acc_y_2,vr_acc_z_2,\n",
    "#rms_acc_x_2,rms_acc_y_2,rms_acc_z_2,\n",
    "#mn2,vr2,\n",
    "#mn_g_x_2,mn_g_y_2,mn_g_z_2,\n",
    "#vr_g_x_2,vr_g_y_2,vr_g_z_2,\n",
    "#rms_g_x_2,rms_g_y_2,rms_g_z_2,\n",
    "#mn_h_2,mn_t_2,mn_s_2,label)) "
   ]
  },
  {
   "cell_type": "code",
   "execution_count": null,
   "metadata": {
    "collapsed": true
   },
   "outputs": [],
   "source": [
    "clf = svm.SVC(kernel='rbf', class_weight='balanced')\n",
    "\n",
    "clf1 = RandomForestClassifier(n_estimators=10)\n",
    "\n",
    "neigh = KNeighborsClassifier(n_neighbors=3)"
   ]
  },
  {
   "cell_type": "code",
   "execution_count": 1955,
   "metadata": {
    "collapsed": false
   },
   "outputs": [],
   "source": [
    "for i in range (50,200,5):\n",
    "    for j in range (25, 100,5):\n",
    "        data[np.where((data_bkp[:,23] == i) * (data_bkp[:,24] == j))]\n",
    "        X = data[:,:22]\n",
    "        y = data[:,22]\n",
    "        X_test = data_class1[:,:22]\n",
    "        y_test = data_class1[:,22]\n",
    "        clf.fit(X,y);\n",
    "        test_predict_svm = clf.predict(X_test)\n",
    "        sv = metrics.accuracy_score(y_test,test_predict_svm)\n",
    "        scores_sv = cross_validation.cross_val_score(clf, f[:,:20], f[:,20], cv=10)\n",
    "        clf1.fit(X,y)\n",
    "        test_predict = clf1.predict(X_test)\n",
    "        rf = metrics.accuracy_score(y_test,test_predict)\n",
    "        scores_rf = cross_val_score(clf, X, y, cv=10)\n",
    "        neigh.fit(X,y)\n",
    "        test_predict_neigh = neigh.predict(X_test)\n",
    "        kn = metrics.accuracy_score(y_test,test_predict_neigh)\n",
    "        scores_kn = cross_val_score(neigh, X, y, cv=10)\n",
    "        accuracy_details = np.column_stack((i,j,sv, scores_sv, rf, scores_rf, kn, scores_kn));\n",
    "        np.savetxt('file.txt',accuracy_details)"
   ]
  },
  {
   "cell_type": "code",
   "execution_count": 1956,
   "metadata": {
    "collapsed": false
   },
   "outputs": [
    {
     "name": "stdout",
     "output_type": "stream",
     "text": [
      "Accuracy: 0.58 (+/- 0.12)\n"
     ]
    }
   ],
   "source": []
  },
  {
   "cell_type": "code",
   "execution_count": null,
   "metadata": {
    "collapsed": true
   },
   "outputs": [],
   "source": []
  },
  {
   "cell_type": "code",
   "execution_count": null,
   "metadata": {
    "collapsed": true
   },
   "outputs": [],
   "source": []
  }
 ],
 "metadata": {
  "anaconda-cloud": {},
  "kernelspec": {
   "display_name": "Python 3",
   "language": "python",
   "name": "python3"
  },
  "language_info": {
   "codemirror_mode": {
    "name": "ipython",
    "version": 3
   },
   "file_extension": ".py",
   "mimetype": "text/x-python",
   "name": "python",
   "nbconvert_exporter": "python",
   "pygments_lexer": "ipython3",
   "version": "3.4.3"
  }
 },
 "nbformat": 4,
 "nbformat_minor": 1
}
