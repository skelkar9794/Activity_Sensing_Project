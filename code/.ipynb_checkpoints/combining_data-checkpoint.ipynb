{
 "cells": [
  {
   "cell_type": "code",
   "execution_count": 1,
   "metadata": {
    "collapsed": true
   },
   "outputs": [],
   "source": [
    "import numpy as np\n",
    "import pandas as pd\n",
    "#from pylab import *\n",
    "import scipy.signal as signal\n",
    "import scipy as sci\n",
    "import math as ma\n",
    "import random\n",
    "import os"
   ]
  },
  {
   "cell_type": "code",
   "execution_count": 2,
   "metadata": {
    "collapsed": true
   },
   "outputs": [],
   "source": [
    "data_heb1 = np.loadtxt('heb1_var_frame.txt')\n",
    "data_heb2 = np.loadtxt('heb2_var_frame.txt')\n",
    "data_heb3 = np.loadtxt('heb3_var_frame.txt')\n",
    "data_heb4 = np.loadtxt('heb4_var_frame.txt')\n",
    "\n",
    "data_pcl1 = np.loadtxt('pcl1_var_frame.txt')\n",
    "data_pcl_j2 = np.loadtxt('pcl_j2_var_frame.txt')\n",
    "data_pcl2 = np.loadtxt('pcl2_var_frame.txt')\n",
    "data_pcl_j = np.loadtxt('pclj_var_frame.txt')\n",
    "\n",
    "data_gym1 = np.loadtxt('gym1_var_frame.txt')\n",
    "data_gym2 = np.loadtxt('gym2_var_frame.txt')\n",
    "\n",
    "\n",
    "data_rec1 = np.loadtxt('rec1_var_frame.txt')\n",
    "data_rec2 = np.loadtxt('rec2_var_frame.txt')\n",
    "data_rec3 = np.loadtxt('rec3_var_frame.txt')\n",
    "\n",
    "data_class1 = np.loadtxt('class1_var_frame.txt')\n",
    "data_class2 = np.loadtxt('class2_var_frame.txt')\n",
    "data_class3 = np.loadtxt('class3_var_frame.txt')\n",
    "data_class4 = np.loadtxt('class4_var_frame.txt')"
   ]
  },
  {
   "cell_type": "code",
   "execution_count": 3,
   "metadata": {
    "collapsed": true
   },
   "outputs": [],
   "source": [
    "data_pcl1[:,22] = 1\n",
    "data_pcl_j[:,22] = 5\n",
    "data_pcl2[:,22] = 1\n",
    "data_pcl_j2[:,22] = 5\n",
    "\n",
    "data_heb1[:,22] = 2\n",
    "data_heb2[:,22] = 2\n",
    "data_heb3[:,22] = 2\n",
    "data_heb4[:,22] = 2\n",
    "\n",
    "data_gym1[:,22] = 3\n",
    "data_gym2[:,22] = 3 \n",
    "data_rec1[:,22] = 3\n",
    "data_rec2[:,22] = 3\n",
    "data_rec3[:,22] = 3\n",
    "\n",
    "data_class1[:,22] = 4\n",
    "data_class2[:,22] = 4\n",
    "data_class3[:,22] = 4\n",
    "data_class4[:,22] = 4"
   ]
  },
  {
   "cell_type": "code",
   "execution_count": 21,
   "metadata": {
    "collapsed": false
   },
   "outputs": [
    {
     "data": {
      "text/plain": [
       "array([[ -9.81445312e-01,   1.27382812e-01,  -1.23422852e-01, ...,\n",
       "          1.00000000e+00,   5.00000000e+01,   2.50000000e+01],\n",
       "       [ -8.70004883e-01,   1.77587891e-01,  -1.13662109e-01, ...,\n",
       "          1.00000000e+00,   5.00000000e+01,   2.50000000e+01],\n",
       "       [ -3.27563477e-01,   5.41586914e-01,   4.38037109e-02, ...,\n",
       "          1.00000000e+00,   5.00000000e+01,   2.50000000e+01],\n",
       "       ..., \n",
       "       [ -9.94304637e-01,   1.54947917e-02,  -3.89247796e-02, ...,\n",
       "          5.00000000e+00,   1.95000000e+02,   9.50000000e+01],\n",
       "       [ -9.94335468e-01,   1.58527081e-02,  -3.88347919e-02, ...,\n",
       "          5.00000000e+00,   1.95000000e+02,   9.50000000e+01],\n",
       "       [ -9.94547526e-01,   1.69542101e-02,  -3.85742188e-02, ...,\n",
       "          5.00000000e+00,   1.95000000e+02,   9.50000000e+01]])"
      ]
     },
     "execution_count": 21,
     "metadata": {},
     "output_type": "execute_result"
    }
   ],
   "source": [
    "data_pcl = np.vstack((data_pcl1, data_pcl_j, data_pcl2, data_pcl_j2));\n",
    "data_heb = np.vstack((data_heb1,data_heb2, data_heb3, data_heb4));\n",
    "data_gym = np.vstack((data_gym1, data_gym2, data_rec1, data_rec2, data_rec3));\n",
    "data_class = np.vstack((data_class1, data_class2, data_class3, data_class4));\n",
    "\n",
    "data_bkp_pcl = data_pcl\n",
    "data_bkp_heb = data_heb\n",
    "data_bkp_gym = data_gym\n",
    "data_bkp_class = data_class\n",
    "\n",
    "data_pcl"
   ]
  },
  {
   "cell_type": "code",
   "execution_count": 12,
   "metadata": {
    "collapsed": false
   },
   "outputs": [],
   "source": [
    "f1 = open('combined_pcl_train.txt','a');\n",
    "\n",
    "f2 = open('combined_heb_train.txt','a');\n",
    "\n",
    "f3 = open('combined_gym_train.txt','a');\n",
    "\n",
    "f4 = open('combined_class_train.txt','a');\n",
    "\n",
    "f5 = open('combined_pcl_test.txt','a');\n",
    "\n",
    "f6 = open('combined_heb_test.txt','a');\n",
    "\n",
    "f7 = open('combined_gym_test.txt','a');\n",
    "\n",
    "f8 = open('combined_class_test.txt','a');\n",
    "\n",
    "f9 = open('uniform_combined_pcl_train.txt','a');\n",
    "\n",
    "f10 = open('uniform_combined_heb_train.txt','a');\n",
    "\n",
    "f11 = open('uniform_combined_gym_train.txt','a');\n",
    "\n",
    "f12 = open('uniform_combined_class_train.txt','a');\n",
    "\n",
    "f13 = open('uniform_combined_pcl_test.txt','a');\n",
    "\n",
    "f14 = open('uniform_combined_heb_test.txt','a');\n",
    "\n",
    "f15 = open('uniform_combined_gym_test.txt','a');\n",
    "\n",
    "f16 = open('uniform_combined_class_test.txt','a');"
   ]
  },
  {
   "cell_type": "code",
   "execution_count": 49,
   "metadata": {
    "collapsed": false
   },
   "outputs": [
    {
     "name": "stdout",
     "output_type": "stream",
     "text": [
      "11923\n",
      "3252\n"
     ]
    },
    {
     "data": {
      "text/plain": [
       "(29268, 25)"
      ]
     },
     "execution_count": 49,
     "metadata": {},
     "output_type": "execute_result"
    }
   ],
   "source": [
    "data_pcl = data_bkp_pcl[np.where(data_bkp_pcl[:,23] == 50) and np.where(data_bkp_pcl[:,24] == 25)];\n",
    "data_pcl.shape\n",
    "np.random.shuffle(data_pcl)\n",
    "pcl_no_of_rows, col = data_pcl.shape\n",
    "p = random.randint(1,(pcl_no_of_rows - (round (pcl_no_of_rows / 10) )))\n",
    "test_pcl = []\n",
    "test_pcl = data_pcl[p:p+(round (pcl_no_of_rows / 10) ),:];\n",
    "print(p)\n",
    "#data_pcl = data_pcl[:p-1,:]\n",
    "dele = []\n",
    "for i2 in range(p, p +(round (pcl_no_of_rows / 10) )):\n",
    "    dele.append(i2);\n",
    "    \n",
    "data_pcl = np.delete(data_pcl, dele, axis = 0 )\n",
    "np.savetxt('meta_data.txt', data_pcl)\n",
    "print(round (pcl_no_of_rows / 10) )\n",
    "data_pcl.shape"
   ]
  },
  {
   "cell_type": "code",
   "execution_count": 14,
   "metadata": {
    "collapsed": false
   },
   "outputs": [],
   "source": [
    "for i in range (50,200,5):\n",
    "    for j in range (25, 100,5):\n",
    "        data_pcl = data_bkp_pcl[np.where((data_bkp_pcl[:,23] == i) * (data_bkp_pcl[:,24] == j))];\n",
    "        data_heb = data_bkp_heb[np.where((data_bkp_heb[:,23] == i) * (data_bkp_heb[:,24] == j))];\n",
    "        data_gym = data_bkp_gym[np.where((data_bkp_gym[:,23] == i) * (data_bkp_gym[:,24] == j))];\n",
    "        data_class = data_bkp_class[np.where((data_bkp_class[:,23] == i) * (data_bkp_class[:,24] == j))];\n",
    "        \n",
    "\n",
    "        np.random.shuffle(data_pcl)\n",
    "        np.random.shuffle(data_heb)\n",
    "        np.random.shuffle(data_gym)\n",
    "        np.random.shuffle(data_class)\n",
    "\n",
    "        pcl_no_of_rows, col = data_pcl.shape\n",
    "        heb_no_of_rows, col = data_heb.shape\n",
    "        gym_no_of_rows, col = data_gym.shape\n",
    "        class_no_of_rows, col = data_class.shape\n",
    "        \n",
    "        p = random.randint(1,(pcl_no_of_rows - (round (pcl_no_of_rows / 10) )))\n",
    "        h = random.randint(1, (heb_no_of_rows - (round (heb_no_of_rows / 10)) ))\n",
    "\n",
    "        g = random.randint(1, (gym_no_of_rows - (round (gym_no_of_rows / 10)) ))\n",
    "        c = random.randint(1, (class_no_of_rows - (round (class_no_of_rows / 10)) ))\n",
    "        \n",
    "        test_pcl = []\n",
    "        test_heb = []\n",
    "        test_gym = []\n",
    "        test_class = []\n",
    "        dele1 = []\n",
    "        dele2 = []\n",
    "        dele3 = []\n",
    "        dele4 = []\n",
    "        test_pcl = data_pcl[p:p+(round (pcl_no_of_rows / 10) ),:];\n",
    "        test_heb = data_heb[h:h+(round (heb_no_of_rows / 10) ),:];\n",
    "        test_gym = data_gym[g:g+(round (gym_no_of_rows / 10) ),:];\n",
    "        test_class = data_class[c:c+(round (class_no_of_rows / 10) ),:];\n",
    "        for i2 in range(p, p +(round (pcl_no_of_rows / 10) )):\n",
    "            dele1.append(i2)\n",
    "        for j2 in range(h, h+ (round(heb_no_of_rows / 10) )):\n",
    "            dele2.append(j2)\n",
    "\n",
    "        for k in range(g, g+ (round(gym_no_of_rows / 10) )):\n",
    "            dele3.append(k)\n",
    "\n",
    "        for l in range(c, c+ (round(class_no_of_rows / 10) )):\n",
    "            dele4.append(l)\n",
    "        \n",
    "        data_pcl = np.delete(data_pcl, dele1, axis = 0 )\n",
    "        data_heb = np.delete(data_heb, dele2, axis = 0 )\n",
    "        data_gym = np.delete(data_gym, dele3, axis = 0 )\n",
    "        data_class = np.delete(data_pcl, dele4, axis = 0 )\n",
    "        np.savetxt('meta_data.txt', data_pcl)\n",
    "        #with open('meta_data.txt') as infile:\n",
    "        #    for line in infile:\n",
    "        #        f1.write(line)\n",
    "        #np.savetxt('meta_data1.txt', data_heb)\n",
    "        #with open('meta_data1.txt') as infile:\n",
    "        #    for line in infile:\n",
    "        #        f2.write(line)\n",
    "\n",
    "        #np.savetxt('meta_data2.txt', data_gym)\n",
    "        #with open('meta_data2.txt') as infile:\n",
    "        #    for line in infile:\n",
    "        #        f3.write(line)\n",
    "        #np.savetxt('meta_data3.txt', data_class)\n",
    "        #with open('meta_data3.txt') as infile:\n",
    "        #    for line in infile:\n",
    "        #        f4.write(line)\n",
    "        #np.savetxt('meta_data4.txt', test_pcl)\n",
    "        #with open('meta_data4.txt') as infile:\n",
    "        #    for line in infile:\n",
    "        #        f5.write(line)\n",
    "        #np.savetxt('meta_data5.txt', test_heb)\n",
    "        #with open('meta_data5.txt') as infile:\n",
    "        #    for line in infile:\n",
    "        #        f6.write(line)        \n",
    "\n",
    "        #np.savetxt('meta_data6.txt', test_gym)\n",
    "        #with open('meta_data6.txt') as infile:\n",
    "        #    for line in infile:\n",
    "        #        f7.write(line)\n",
    "        \n",
    "        #np.savetxt('meta_data7.txt', test_class)\n",
    "        #with open('meta_data7.txt') as infile:\n",
    "        #    for line in infile:\n",
    "        #        f8.write(line)\n"
   ]
  },
  {
   "cell_type": "code",
   "execution_count": 7,
   "metadata": {
    "collapsed": false
   },
   "outputs": [
    {
     "data": {
      "text/plain": [
       "True"
      ]
     },
     "execution_count": 7,
     "metadata": {},
     "output_type": "execute_result"
    }
   ],
   "source": [
    "type(round (pcl_no_of_rows / 4)) is int"
   ]
  },
  {
   "cell_type": "code",
   "execution_count": 8,
   "metadata": {
    "collapsed": false
   },
   "outputs": [],
   "source": [
    "for i in range (50,200,5):\n",
    "    for j in range (25, 100,5):\n",
    "        data_pcl = data_bkp_pcl[np.where((data_bkp_pcl[:,23] == i) * (data_bkp_pcl[:,24] == j))];\n",
    "        data_heb = data_bkp_heb[np.where((data_bkp_heb[:,23] == i) * (data_bkp_heb[:,24] == j))];\n",
    "        data_gym = data_bkp_gym[np.where((data_bkp_gym[:,23] == i) * (data_bkp_gym[:,24] == j))];\n",
    "        data_class = data_bkp_class[np.where((data_bkp_class[:,23] == i) * (data_bkp_class[:,24] == j))];\n",
    "        \n",
    "\n",
    "        np.random.shuffle(data_pcl)\n",
    "        np.random.shuffle(data_heb)\n",
    "        np.random.shuffle(data_gym)\n",
    "        np.random.shuffle(data_class)\n",
    "\n",
    "        pcl_no_of_rows, col = data_pcl.shape\n",
    "        heb_no_of_rows, col = data_heb.shape\n",
    "        gym_no_of_rows, col = data_gym.shape\n",
    "        class_no_of_rows, col = data_class.shape\n",
    "        m = min(pcl_no_of_rows, heb_no_of_rows, gym_no_of_rows, class_no_of_rows);\n",
    "        uni_pcl = [ [0] * 22 for _ in range(m)]\n",
    "        uni_heb = [ [0] * 22 for _ in range(m)]\n",
    "        uni_gym = [ [0] * 22 for _ in range(m)]\n",
    "        uni_class = [ [0] * 22 for _ in range(m)]\n",
    "\n",
    "\n",
    "        uni_pcl = data_pcl[:m,:];\n",
    "        uni_heb = data_heb[:m,:];\n",
    "        uni_gym = data_gym[:m,:];\n",
    "        uni_class = data_class[:m,:];\n",
    "\n",
    "        ran = random.randint(1, m - (round (m/4)));\n",
    "\n",
    "        uni_test_pcl = [];\n",
    "        uni_test_heb = [];\n",
    "        uni_test_gym = [];\n",
    "        uni_test_class = [];\n",
    "        uni_test_pcl = uni_pcl[ran:ran + (round (m/4)),:]\n",
    "        uni_test_heb = uni_heb[ran:ran + (round (m/4)),:]\n",
    "        uni_test_gym = uni_gym[ran :ran + (round (m/4)),:]\n",
    "        uni_test_class = uni_class[ran:ran + (round (m/4)),:]\n",
    "\n",
    "        for i3 in range(ran, ran + (round (m/4))):\n",
    "            uni_pcl = np.delete(uni_pcl, (i3));\n",
    "            uni_heb = np.delete(uni_heb, (i3));\n",
    "            uni_gym = np.delete(uni_gym, (i3));\n",
    "            uni_class = np.delete(uni_class, (i3));\n",
    "\n",
    "        \n",
    "        np.savetxt('meta_data.txt', uni_pcl)\n",
    "        with open('meta_data.txt') as infile:\n",
    "            for line in infile:\n",
    "                f9.write(line)\n",
    "        np.savetxt('meta_data.txt', uni_heb)\n",
    "        with open('meta_data.txt') as infile:\n",
    "            for line in infile:\n",
    "                f10.write(line)        \n",
    "        np.savetxt('meta_data.txt', uni_gym)\n",
    "        with open('meta_data.txt') as infile:\n",
    "            for line in infile:\n",
    "                f11.write(line)\n",
    "        np.savetxt('meta_data.txt', uni_class)\n",
    "        with open('meta_data.txt') as infile:\n",
    "            for line in infile:\n",
    "                f12.write(line)\n",
    "        \n",
    "        np.savetxt('meta_data.txt', uni_test_pcl)\n",
    "        with open('meta_data.txt') as infile:\n",
    "            for line in infile:\n",
    "                f13.write(line)\n",
    "        \n",
    "        np.savetxt('meta_data.txt', uni_test_heb)\n",
    "        with open('meta_data.txt') as infile:\n",
    "            for line in infile:\n",
    "                f14.write(line)\n",
    "\n",
    "        np.savetxt('meta_data.txt', uni_test_gym)\n",
    "        with open('meta_data.txt') as infile:\n",
    "            for line in infile:\n",
    "                f15.write(line)\n",
    "        \n",
    "        np.savetxt('meta_data.txt', uni_test_class)\n",
    "        with open('meta_data.txt') as infile:\n",
    "            for line in infile:\n",
    "                f16.write(line)"
   ]
  },
  {
   "cell_type": "code",
   "execution_count": 9,
   "metadata": {
    "collapsed": true
   },
   "outputs": [],
   "source": [
    "f1.close();\n",
    "f2.close();\n",
    "f3.close();\n",
    "f4.close();\n",
    "f5.close();\n",
    "f6.close();\n",
    "f7.close();\n",
    "f8.close();\n",
    "f9.close();\n",
    "f10.close();\n",
    "f11.close();\n",
    "f12.close();\n",
    "f13.close();\n",
    "f14.close();\n",
    "f15.close();\n",
    "f16.close();"
   ]
  },
  {
   "cell_type": "code",
   "execution_count": null,
   "metadata": {
    "collapsed": true
   },
   "outputs": [],
   "source": []
  }
 ],
 "metadata": {
  "kernelspec": {
   "display_name": "Python 3",
   "language": "python",
   "name": "python3"
  },
  "language_info": {
   "codemirror_mode": {
    "name": "ipython",
    "version": 3
   },
   "file_extension": ".py",
   "mimetype": "text/x-python",
   "name": "python",
   "nbconvert_exporter": "python",
   "pygments_lexer": "ipython3",
   "version": "3.4.3"
  }
 },
 "nbformat": 4,
 "nbformat_minor": 1
}
