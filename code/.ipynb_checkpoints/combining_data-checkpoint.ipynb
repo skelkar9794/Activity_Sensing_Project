{
 "cells": [
  {
   "cell_type": "code",
   "execution_count": null,
   "metadata": {
    "collapsed": true
   },
   "outputs": [],
   "source": [
    "import numpy as np\n",
    "import pandas as pd\n",
    "#from pylab import *\n",
    "import scipy.signal as signal\n",
    "import scipy as sci\n",
    "import math as ma\n",
    "import random"
   ]
  },
  {
   "cell_type": "code",
   "execution_count": null,
   "metadata": {
    "collapsed": true
   },
   "outputs": [],
   "source": [
    "data_heb1 = np.loadtxt('heb1.txt')\n",
    "data_heb2 = np.loadtxt('heb2.txt')\n",
    "data_heb3 = np.loadtxt('heb3.txt')\n",
    "data_heb4 = np.loadtxt('heb4.txt')\n",
    "\n",
    "data_pcl1 = np.loadtxt('pcl1.txt')\n",
    "data_pcl_j = np.loadtxt('pcl_j2.txt')\n",
    "data_pcl2 = np.loadtxt('pcl2.txt')\n",
    "\n",
    "data_gym1 = np.loadtxt('gym1.txt')\n",
    "data_gym2 = np.loadtxt('gym2.txt')\n",
    "\n",
    "\n",
    "data_rec1 = np.loadtxt('rec1.txt')\n",
    "data_rec2 = np.loadtxt('rec2.txt')\n",
    "data_rec3 = np.loadtxt('rec3.txt')\n",
    "\n",
    "data_class1 = np.loadtxt('class1.txt')\n",
    "data_class2 = np.loadtxt('class2.txt')\n",
    "data_class3 = np.loadtxt('class3.txt')\n",
    "data_class4 = np.loadtxt('class4.txt')"
   ]
  },
  {
   "cell_type": "code",
   "execution_count": null,
   "metadata": {
    "collapsed": true
   },
   "outputs": [],
   "source": [
    "data_pcl1[:,22] = 1\n",
    "data_pcl_j[:,22] = 1\n",
    "data_pcl2[:,22] = 1\n",
    "\n",
    "data_heb1[:,22] = 2\n",
    "data_heb2[:,22] = 2\n",
    "data_heb3[:,22] = 2\n",
    "data_heb4[:,22] = 2\n",
    "\n",
    "data_gym1[:,22] = 3\n",
    "data_gym2[:,22] = 3 \n",
    "data_rec1[:,22] = 3\n",
    "data_rec2[:,22] = 3\n",
    "data_rec3[:,22] = 3\n",
    "\n",
    "data_class1[:,22] = 4\n",
    "data_class2[:,22] = 4\n",
    "data_class3[:,22] = 4\n",
    "data_class4[:,22] = 4"
   ]
  },
  {
   "cell_type": "code",
   "execution_count": null,
   "metadata": {
    "collapsed": true
   },
   "outputs": [],
   "source": [
    "data_pcl = np.vstack((data_pcl1, data_pcl_j, data_pcl2));\n",
    "data_heb = np.vstack((data_heb1,data_heb2, data_heb3, data_heb4));\n",
    "data_gym = np.vstack((data_gym1, data_gym2, data_rec1, data_rec2, data_rec3));\n",
    "data_class = np.vstack((data_class1, data_class2, data_class3, data_class4));"
   ]
  },
  {
   "cell_type": "code",
   "execution_count": null,
   "metadata": {
    "collapsed": true
   },
   "outputs": [],
   "source": [
    "np.random.shuffle(data_pcl)\n",
    "np.random.shuffle(data_heb)\n",
    "np.random.shuffle(data_gym)\n",
    "np.random.shuffle(data_class)"
   ]
  },
  {
   "cell_type": "code",
   "execution_count": null,
   "metadata": {
    "collapsed": true
   },
   "outputs": [],
   "source": [
    "pcl_no_of_rows, col = data_pcl.shape\n",
    "heb_no_of_rows, col = data_heb.shape\n",
    "gym_no_of_rows, col = data_gym.shape\n",
    "class_no_of_rows, col = data_class.shape"
   ]
  },
  {
   "cell_type": "code",
   "execution_count": null,
   "metadata": {
    "collapsed": true
   },
   "outputs": [],
   "source": [
    "p = random.randint(1,pcl_no_of_rows)\n",
    "h = random.randint(1, heb_no_of_rows)\n",
    "g = random.randint(1, gym_no_of_rows)\n",
    "c = random.randint(1, class_no_of_rows)"
   ]
  },
  {
   "cell_type": "code",
   "execution_count": null,
   "metadata": {
    "collapsed": true
   },
   "outputs": [],
   "source": [
    "np.savetxt('combined_pcl.txt',data_pcl)\n",
    "np.savetxt('combined_heb.txt', data_heb)"
   ]
  },
  {
   "cell_type": "code",
   "execution_count": null,
   "metadata": {
    "collapsed": true
   },
   "outputs": [],
   "source": [
    "np.savetxt('combined_gym.txt',data_gym)\n",
    "np.savetxt('combined_class.txt', data_class)"
   ]
  }
 ],
 "metadata": {
  "kernelspec": {
   "display_name": "Python 3",
   "language": "python",
   "name": "python3"
  },
  "language_info": {
   "codemirror_mode": {
    "name": "ipython",
    "version": 3
   },
   "file_extension": ".py",
   "mimetype": "text/x-python",
   "name": "python",
   "nbconvert_exporter": "python",
   "pygments_lexer": "ipython3",
   "version": "3.4.3"
  }
 },
 "nbformat": 4,
 "nbformat_minor": 1
}
