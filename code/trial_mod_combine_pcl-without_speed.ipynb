{
 "cells": [
  {
   "cell_type": "code",
   "execution_count": 3,
   "metadata": {
    "collapsed": false
   },
   "outputs": [],
   "source": [
    "import numpy as np\n",
    "import pandas as pd\n",
    "#from pylab import *\n",
    "import scipy.signal as signal\n",
    "import scipy as sci\n",
    "import math as ma"
   ]
  },
  {
   "cell_type": "code",
   "execution_count": 4,
   "metadata": {
    "collapsed": false,
    "scrolled": true
   },
   "outputs": [
    {
     "ename": "KeyError",
     "evalue": "'Timestamp'",
     "output_type": "error",
     "traceback": [
      "\u001b[0;31m---------------------------------------------------------------------------\u001b[0m",
      "\u001b[0;31mKeyError\u001b[0m                                  Traceback (most recent call last)",
      "\u001b[0;32m/usr/local/lib/python3.4/dist-packages/pandas/indexes/base.py\u001b[0m in \u001b[0;36mget_loc\u001b[0;34m(self, key, method, tolerance)\u001b[0m\n\u001b[1;32m   1944\u001b[0m             \u001b[0;32mtry\u001b[0m\u001b[0;34m:\u001b[0m\u001b[0;34m\u001b[0m\u001b[0m\n\u001b[0;32m-> 1945\u001b[0;31m                 \u001b[0;32mreturn\u001b[0m \u001b[0mself\u001b[0m\u001b[0;34m.\u001b[0m\u001b[0m_engine\u001b[0m\u001b[0;34m.\u001b[0m\u001b[0mget_loc\u001b[0m\u001b[0;34m(\u001b[0m\u001b[0mkey\u001b[0m\u001b[0;34m)\u001b[0m\u001b[0;34m\u001b[0m\u001b[0m\n\u001b[0m\u001b[1;32m   1946\u001b[0m             \u001b[0;32mexcept\u001b[0m \u001b[0mKeyError\u001b[0m\u001b[0;34m:\u001b[0m\u001b[0;34m\u001b[0m\u001b[0m\n",
      "\u001b[0;32mpandas/index.pyx\u001b[0m in \u001b[0;36mpandas.index.IndexEngine.get_loc (pandas/index.c:4154)\u001b[0;34m()\u001b[0m\n",
      "\u001b[0;32mpandas/index.pyx\u001b[0m in \u001b[0;36mpandas.index.IndexEngine.get_loc (pandas/index.c:4018)\u001b[0;34m()\u001b[0m\n",
      "\u001b[0;32mpandas/hashtable.pyx\u001b[0m in \u001b[0;36mpandas.hashtable.PyObjectHashTable.get_item (pandas/hashtable.c:12368)\u001b[0;34m()\u001b[0m\n",
      "\u001b[0;32mpandas/hashtable.pyx\u001b[0m in \u001b[0;36mpandas.hashtable.PyObjectHashTable.get_item (pandas/hashtable.c:12322)\u001b[0;34m()\u001b[0m\n",
      "\u001b[0;31mKeyError\u001b[0m: 'Timestamp'",
      "\nDuring handling of the above exception, another exception occurred:\n",
      "\u001b[0;31mKeyError\u001b[0m                                  Traceback (most recent call last)",
      "\u001b[0;32m<ipython-input-4-ab5c418c6ca4>\u001b[0m in \u001b[0;36m<module>\u001b[0;34m()\u001b[0m\n\u001b[1;32m     13\u001b[0m \u001b[0mdataset1_g\u001b[0m \u001b[0;34m=\u001b[0m \u001b[0mdataset1_g\u001b[0m\u001b[0;34m[\u001b[0m\u001b[0;34m[\u001b[0m\u001b[0;36m1\u001b[0m\u001b[0;34m,\u001b[0m\u001b[0;36m2\u001b[0m\u001b[0;34m,\u001b[0m\u001b[0;36m3\u001b[0m\u001b[0;34m,\u001b[0m\u001b[0;36m8\u001b[0m\u001b[0;34m]\u001b[0m\u001b[0;34m]\u001b[0m\u001b[0;34m\u001b[0m\u001b[0m\n\u001b[1;32m     14\u001b[0m \u001b[0;34m\u001b[0m\u001b[0m\n\u001b[0;32m---> 15\u001b[0;31m \u001b[0mdataset_f1\u001b[0m \u001b[0;34m=\u001b[0m \u001b[0mdataset1\u001b[0m\u001b[0;34m.\u001b[0m\u001b[0mmerge\u001b[0m\u001b[0;34m(\u001b[0m\u001b[0mdataset1_g\u001b[0m\u001b[0;34m,\u001b[0m\u001b[0mhow\u001b[0m\u001b[0;34m=\u001b[0m\u001b[0;34m'left'\u001b[0m\u001b[0;34m,\u001b[0m \u001b[0mleft_on\u001b[0m\u001b[0;34m=\u001b[0m\u001b[0;34m'Timestamp'\u001b[0m\u001b[0;34m,\u001b[0m \u001b[0mright_on\u001b[0m\u001b[0;34m=\u001b[0m\u001b[0;34m'Timestamp'\u001b[0m\u001b[0;34m)\u001b[0m\u001b[0;34m\u001b[0m\u001b[0m\n\u001b[0m\u001b[1;32m     16\u001b[0m \u001b[0;34m\u001b[0m\u001b[0m\n\u001b[1;32m     17\u001b[0m \u001b[0mdataset1_h\u001b[0m \u001b[0;34m=\u001b[0m \u001b[0mdataset1_h\u001b[0m\u001b[0;34m.\u001b[0m\u001b[0msort_values\u001b[0m\u001b[0;34m(\u001b[0m\u001b[0mby\u001b[0m\u001b[0;34m=\u001b[0m\u001b[0;34m'Timestamp'\u001b[0m\u001b[0;34m)\u001b[0m\u001b[0;34m\u001b[0m\u001b[0m\n",
      "\u001b[0;32m/usr/local/lib/python3.4/dist-packages/pandas/core/frame.py\u001b[0m in \u001b[0;36mmerge\u001b[0;34m(self, right, how, on, left_on, right_on, left_index, right_index, sort, suffixes, copy, indicator)\u001b[0m\n\u001b[1;32m   4435\u001b[0m                      \u001b[0mright_on\u001b[0m\u001b[0;34m=\u001b[0m\u001b[0mright_on\u001b[0m\u001b[0;34m,\u001b[0m \u001b[0mleft_index\u001b[0m\u001b[0;34m=\u001b[0m\u001b[0mleft_index\u001b[0m\u001b[0;34m,\u001b[0m\u001b[0;34m\u001b[0m\u001b[0m\n\u001b[1;32m   4436\u001b[0m                      \u001b[0mright_index\u001b[0m\u001b[0;34m=\u001b[0m\u001b[0mright_index\u001b[0m\u001b[0;34m,\u001b[0m \u001b[0msort\u001b[0m\u001b[0;34m=\u001b[0m\u001b[0msort\u001b[0m\u001b[0;34m,\u001b[0m \u001b[0msuffixes\u001b[0m\u001b[0;34m=\u001b[0m\u001b[0msuffixes\u001b[0m\u001b[0;34m,\u001b[0m\u001b[0;34m\u001b[0m\u001b[0m\n\u001b[0;32m-> 4437\u001b[0;31m                      copy=copy, indicator=indicator)\n\u001b[0m\u001b[1;32m   4438\u001b[0m \u001b[0;34m\u001b[0m\u001b[0m\n\u001b[1;32m   4439\u001b[0m     \u001b[0;32mdef\u001b[0m \u001b[0mround\u001b[0m\u001b[0;34m(\u001b[0m\u001b[0mself\u001b[0m\u001b[0;34m,\u001b[0m \u001b[0mdecimals\u001b[0m\u001b[0;34m=\u001b[0m\u001b[0;36m0\u001b[0m\u001b[0;34m,\u001b[0m \u001b[0;34m*\u001b[0m\u001b[0margs\u001b[0m\u001b[0;34m,\u001b[0m \u001b[0;34m**\u001b[0m\u001b[0mkwargs\u001b[0m\u001b[0;34m)\u001b[0m\u001b[0;34m:\u001b[0m\u001b[0;34m\u001b[0m\u001b[0m\n",
      "\u001b[0;32m/usr/local/lib/python3.4/dist-packages/pandas/tools/merge.py\u001b[0m in \u001b[0;36mmerge\u001b[0;34m(left, right, how, on, left_on, right_on, left_index, right_index, sort, suffixes, copy, indicator)\u001b[0m\n\u001b[1;32m     36\u001b[0m                          \u001b[0mright_on\u001b[0m\u001b[0;34m=\u001b[0m\u001b[0mright_on\u001b[0m\u001b[0;34m,\u001b[0m \u001b[0mleft_index\u001b[0m\u001b[0;34m=\u001b[0m\u001b[0mleft_index\u001b[0m\u001b[0;34m,\u001b[0m\u001b[0;34m\u001b[0m\u001b[0m\n\u001b[1;32m     37\u001b[0m                          \u001b[0mright_index\u001b[0m\u001b[0;34m=\u001b[0m\u001b[0mright_index\u001b[0m\u001b[0;34m,\u001b[0m \u001b[0msort\u001b[0m\u001b[0;34m=\u001b[0m\u001b[0msort\u001b[0m\u001b[0;34m,\u001b[0m \u001b[0msuffixes\u001b[0m\u001b[0;34m=\u001b[0m\u001b[0msuffixes\u001b[0m\u001b[0;34m,\u001b[0m\u001b[0;34m\u001b[0m\u001b[0m\n\u001b[0;32m---> 38\u001b[0;31m                          copy=copy, indicator=indicator)\n\u001b[0m\u001b[1;32m     39\u001b[0m     \u001b[0;32mreturn\u001b[0m \u001b[0mop\u001b[0m\u001b[0;34m.\u001b[0m\u001b[0mget_result\u001b[0m\u001b[0;34m(\u001b[0m\u001b[0;34m)\u001b[0m\u001b[0;34m\u001b[0m\u001b[0m\n\u001b[1;32m     40\u001b[0m \u001b[0;32mif\u001b[0m \u001b[0m__debug__\u001b[0m\u001b[0;34m:\u001b[0m\u001b[0;34m\u001b[0m\u001b[0m\n",
      "\u001b[0;32m/usr/local/lib/python3.4/dist-packages/pandas/tools/merge.py\u001b[0m in \u001b[0;36m__init__\u001b[0;34m(self, left, right, how, on, left_on, right_on, axis, left_index, right_index, sort, suffixes, copy, indicator)\u001b[0m\n\u001b[1;32m    208\u001b[0m         (self.left_join_keys,\n\u001b[1;32m    209\u001b[0m          \u001b[0mself\u001b[0m\u001b[0;34m.\u001b[0m\u001b[0mright_join_keys\u001b[0m\u001b[0;34m,\u001b[0m\u001b[0;34m\u001b[0m\u001b[0m\n\u001b[0;32m--> 210\u001b[0;31m          self.join_names) = self._get_merge_keys()\n\u001b[0m\u001b[1;32m    211\u001b[0m \u001b[0;34m\u001b[0m\u001b[0m\n\u001b[1;32m    212\u001b[0m     \u001b[0;32mdef\u001b[0m \u001b[0mget_result\u001b[0m\u001b[0;34m(\u001b[0m\u001b[0mself\u001b[0m\u001b[0;34m)\u001b[0m\u001b[0;34m:\u001b[0m\u001b[0;34m\u001b[0m\u001b[0m\n",
      "\u001b[0;32m/usr/local/lib/python3.4/dist-packages/pandas/tools/merge.py\u001b[0m in \u001b[0;36m_get_merge_keys\u001b[0;34m(self)\u001b[0m\n\u001b[1;32m    432\u001b[0m                 \u001b[0;32melse\u001b[0m\u001b[0;34m:\u001b[0m\u001b[0;34m\u001b[0m\u001b[0m\n\u001b[1;32m    433\u001b[0m                     \u001b[0;32mif\u001b[0m \u001b[0;32mnot\u001b[0m \u001b[0mis_rkey\u001b[0m\u001b[0;34m(\u001b[0m\u001b[0mrk\u001b[0m\u001b[0;34m)\u001b[0m\u001b[0;34m:\u001b[0m\u001b[0;34m\u001b[0m\u001b[0m\n\u001b[0;32m--> 434\u001b[0;31m                         \u001b[0mright_keys\u001b[0m\u001b[0;34m.\u001b[0m\u001b[0mappend\u001b[0m\u001b[0;34m(\u001b[0m\u001b[0mright\u001b[0m\u001b[0;34m[\u001b[0m\u001b[0mrk\u001b[0m\u001b[0;34m]\u001b[0m\u001b[0;34m.\u001b[0m\u001b[0m_values\u001b[0m\u001b[0;34m)\u001b[0m\u001b[0;34m\u001b[0m\u001b[0m\n\u001b[0m\u001b[1;32m    435\u001b[0m                         \u001b[0;32mif\u001b[0m \u001b[0mlk\u001b[0m \u001b[0;34m==\u001b[0m \u001b[0mrk\u001b[0m\u001b[0;34m:\u001b[0m\u001b[0;34m\u001b[0m\u001b[0m\n\u001b[1;32m    436\u001b[0m                             \u001b[0;31m# avoid key upcast in corner case (length-0)\u001b[0m\u001b[0;34m\u001b[0m\u001b[0;34m\u001b[0m\u001b[0m\n",
      "\u001b[0;32m/usr/local/lib/python3.4/dist-packages/pandas/core/frame.py\u001b[0m in \u001b[0;36m__getitem__\u001b[0;34m(self, key)\u001b[0m\n\u001b[1;32m   1995\u001b[0m             \u001b[0;32mreturn\u001b[0m \u001b[0mself\u001b[0m\u001b[0;34m.\u001b[0m\u001b[0m_getitem_multilevel\u001b[0m\u001b[0;34m(\u001b[0m\u001b[0mkey\u001b[0m\u001b[0;34m)\u001b[0m\u001b[0;34m\u001b[0m\u001b[0m\n\u001b[1;32m   1996\u001b[0m         \u001b[0;32melse\u001b[0m\u001b[0;34m:\u001b[0m\u001b[0;34m\u001b[0m\u001b[0m\n\u001b[0;32m-> 1997\u001b[0;31m             \u001b[0;32mreturn\u001b[0m \u001b[0mself\u001b[0m\u001b[0;34m.\u001b[0m\u001b[0m_getitem_column\u001b[0m\u001b[0;34m(\u001b[0m\u001b[0mkey\u001b[0m\u001b[0;34m)\u001b[0m\u001b[0;34m\u001b[0m\u001b[0m\n\u001b[0m\u001b[1;32m   1998\u001b[0m \u001b[0;34m\u001b[0m\u001b[0m\n\u001b[1;32m   1999\u001b[0m     \u001b[0;32mdef\u001b[0m \u001b[0m_getitem_column\u001b[0m\u001b[0;34m(\u001b[0m\u001b[0mself\u001b[0m\u001b[0;34m,\u001b[0m \u001b[0mkey\u001b[0m\u001b[0;34m)\u001b[0m\u001b[0;34m:\u001b[0m\u001b[0;34m\u001b[0m\u001b[0m\n",
      "\u001b[0;32m/usr/local/lib/python3.4/dist-packages/pandas/core/frame.py\u001b[0m in \u001b[0;36m_getitem_column\u001b[0;34m(self, key)\u001b[0m\n\u001b[1;32m   2002\u001b[0m         \u001b[0;31m# get column\u001b[0m\u001b[0;34m\u001b[0m\u001b[0;34m\u001b[0m\u001b[0m\n\u001b[1;32m   2003\u001b[0m         \u001b[0;32mif\u001b[0m \u001b[0mself\u001b[0m\u001b[0;34m.\u001b[0m\u001b[0mcolumns\u001b[0m\u001b[0;34m.\u001b[0m\u001b[0mis_unique\u001b[0m\u001b[0;34m:\u001b[0m\u001b[0;34m\u001b[0m\u001b[0m\n\u001b[0;32m-> 2004\u001b[0;31m             \u001b[0;32mreturn\u001b[0m \u001b[0mself\u001b[0m\u001b[0;34m.\u001b[0m\u001b[0m_get_item_cache\u001b[0m\u001b[0;34m(\u001b[0m\u001b[0mkey\u001b[0m\u001b[0;34m)\u001b[0m\u001b[0;34m\u001b[0m\u001b[0m\n\u001b[0m\u001b[1;32m   2005\u001b[0m \u001b[0;34m\u001b[0m\u001b[0m\n\u001b[1;32m   2006\u001b[0m         \u001b[0;31m# duplicate columns & possible reduce dimensionality\u001b[0m\u001b[0;34m\u001b[0m\u001b[0;34m\u001b[0m\u001b[0m\n",
      "\u001b[0;32m/usr/local/lib/python3.4/dist-packages/pandas/core/generic.py\u001b[0m in \u001b[0;36m_get_item_cache\u001b[0;34m(self, item)\u001b[0m\n\u001b[1;32m   1348\u001b[0m         \u001b[0mres\u001b[0m \u001b[0;34m=\u001b[0m \u001b[0mcache\u001b[0m\u001b[0;34m.\u001b[0m\u001b[0mget\u001b[0m\u001b[0;34m(\u001b[0m\u001b[0mitem\u001b[0m\u001b[0;34m)\u001b[0m\u001b[0;34m\u001b[0m\u001b[0m\n\u001b[1;32m   1349\u001b[0m         \u001b[0;32mif\u001b[0m \u001b[0mres\u001b[0m \u001b[0;32mis\u001b[0m \u001b[0;32mNone\u001b[0m\u001b[0;34m:\u001b[0m\u001b[0;34m\u001b[0m\u001b[0m\n\u001b[0;32m-> 1350\u001b[0;31m             \u001b[0mvalues\u001b[0m \u001b[0;34m=\u001b[0m \u001b[0mself\u001b[0m\u001b[0;34m.\u001b[0m\u001b[0m_data\u001b[0m\u001b[0;34m.\u001b[0m\u001b[0mget\u001b[0m\u001b[0;34m(\u001b[0m\u001b[0mitem\u001b[0m\u001b[0;34m)\u001b[0m\u001b[0;34m\u001b[0m\u001b[0m\n\u001b[0m\u001b[1;32m   1351\u001b[0m             \u001b[0mres\u001b[0m \u001b[0;34m=\u001b[0m \u001b[0mself\u001b[0m\u001b[0;34m.\u001b[0m\u001b[0m_box_item_values\u001b[0m\u001b[0;34m(\u001b[0m\u001b[0mitem\u001b[0m\u001b[0;34m,\u001b[0m \u001b[0mvalues\u001b[0m\u001b[0;34m)\u001b[0m\u001b[0;34m\u001b[0m\u001b[0m\n\u001b[1;32m   1352\u001b[0m             \u001b[0mcache\u001b[0m\u001b[0;34m[\u001b[0m\u001b[0mitem\u001b[0m\u001b[0;34m]\u001b[0m \u001b[0;34m=\u001b[0m \u001b[0mres\u001b[0m\u001b[0;34m\u001b[0m\u001b[0m\n",
      "\u001b[0;32m/usr/local/lib/python3.4/dist-packages/pandas/core/internals.py\u001b[0m in \u001b[0;36mget\u001b[0;34m(self, item, fastpath)\u001b[0m\n\u001b[1;32m   3288\u001b[0m \u001b[0;34m\u001b[0m\u001b[0m\n\u001b[1;32m   3289\u001b[0m             \u001b[0;32mif\u001b[0m \u001b[0;32mnot\u001b[0m \u001b[0misnull\u001b[0m\u001b[0;34m(\u001b[0m\u001b[0mitem\u001b[0m\u001b[0;34m)\u001b[0m\u001b[0;34m:\u001b[0m\u001b[0;34m\u001b[0m\u001b[0m\n\u001b[0;32m-> 3290\u001b[0;31m                 \u001b[0mloc\u001b[0m \u001b[0;34m=\u001b[0m \u001b[0mself\u001b[0m\u001b[0;34m.\u001b[0m\u001b[0mitems\u001b[0m\u001b[0;34m.\u001b[0m\u001b[0mget_loc\u001b[0m\u001b[0;34m(\u001b[0m\u001b[0mitem\u001b[0m\u001b[0;34m)\u001b[0m\u001b[0;34m\u001b[0m\u001b[0m\n\u001b[0m\u001b[1;32m   3291\u001b[0m             \u001b[0;32melse\u001b[0m\u001b[0;34m:\u001b[0m\u001b[0;34m\u001b[0m\u001b[0m\n\u001b[1;32m   3292\u001b[0m                 \u001b[0mindexer\u001b[0m \u001b[0;34m=\u001b[0m \u001b[0mnp\u001b[0m\u001b[0;34m.\u001b[0m\u001b[0marange\u001b[0m\u001b[0;34m(\u001b[0m\u001b[0mlen\u001b[0m\u001b[0;34m(\u001b[0m\u001b[0mself\u001b[0m\u001b[0;34m.\u001b[0m\u001b[0mitems\u001b[0m\u001b[0;34m)\u001b[0m\u001b[0;34m)\u001b[0m\u001b[0;34m[\u001b[0m\u001b[0misnull\u001b[0m\u001b[0;34m(\u001b[0m\u001b[0mself\u001b[0m\u001b[0;34m.\u001b[0m\u001b[0mitems\u001b[0m\u001b[0;34m)\u001b[0m\u001b[0;34m]\u001b[0m\u001b[0;34m\u001b[0m\u001b[0m\n",
      "\u001b[0;32m/usr/local/lib/python3.4/dist-packages/pandas/indexes/base.py\u001b[0m in \u001b[0;36mget_loc\u001b[0;34m(self, key, method, tolerance)\u001b[0m\n\u001b[1;32m   1945\u001b[0m                 \u001b[0;32mreturn\u001b[0m \u001b[0mself\u001b[0m\u001b[0;34m.\u001b[0m\u001b[0m_engine\u001b[0m\u001b[0;34m.\u001b[0m\u001b[0mget_loc\u001b[0m\u001b[0;34m(\u001b[0m\u001b[0mkey\u001b[0m\u001b[0;34m)\u001b[0m\u001b[0;34m\u001b[0m\u001b[0m\n\u001b[1;32m   1946\u001b[0m             \u001b[0;32mexcept\u001b[0m \u001b[0mKeyError\u001b[0m\u001b[0;34m:\u001b[0m\u001b[0;34m\u001b[0m\u001b[0m\n\u001b[0;32m-> 1947\u001b[0;31m                 \u001b[0;32mreturn\u001b[0m \u001b[0mself\u001b[0m\u001b[0;34m.\u001b[0m\u001b[0m_engine\u001b[0m\u001b[0;34m.\u001b[0m\u001b[0mget_loc\u001b[0m\u001b[0;34m(\u001b[0m\u001b[0mself\u001b[0m\u001b[0;34m.\u001b[0m\u001b[0m_maybe_cast_indexer\u001b[0m\u001b[0;34m(\u001b[0m\u001b[0mkey\u001b[0m\u001b[0;34m)\u001b[0m\u001b[0;34m)\u001b[0m\u001b[0;34m\u001b[0m\u001b[0m\n\u001b[0m\u001b[1;32m   1948\u001b[0m \u001b[0;34m\u001b[0m\u001b[0m\n\u001b[1;32m   1949\u001b[0m         \u001b[0mindexer\u001b[0m \u001b[0;34m=\u001b[0m \u001b[0mself\u001b[0m\u001b[0;34m.\u001b[0m\u001b[0mget_indexer\u001b[0m\u001b[0;34m(\u001b[0m\u001b[0;34m[\u001b[0m\u001b[0mkey\u001b[0m\u001b[0;34m]\u001b[0m\u001b[0;34m,\u001b[0m \u001b[0mmethod\u001b[0m\u001b[0;34m=\u001b[0m\u001b[0mmethod\u001b[0m\u001b[0;34m,\u001b[0m \u001b[0mtolerance\u001b[0m\u001b[0;34m=\u001b[0m\u001b[0mtolerance\u001b[0m\u001b[0;34m)\u001b[0m\u001b[0;34m\u001b[0m\u001b[0m\n",
      "\u001b[0;32mpandas/index.pyx\u001b[0m in \u001b[0;36mpandas.index.IndexEngine.get_loc (pandas/index.c:4154)\u001b[0;34m()\u001b[0m\n",
      "\u001b[0;32mpandas/index.pyx\u001b[0m in \u001b[0;36mpandas.index.IndexEngine.get_loc (pandas/index.c:4018)\u001b[0;34m()\u001b[0m\n",
      "\u001b[0;32mpandas/hashtable.pyx\u001b[0m in \u001b[0;36mpandas.hashtable.PyObjectHashTable.get_item (pandas/hashtable.c:12368)\u001b[0;34m()\u001b[0m\n",
      "\u001b[0;32mpandas/hashtable.pyx\u001b[0m in \u001b[0;36mpandas.hashtable.PyObjectHashTable.get_item (pandas/hashtable.c:12322)\u001b[0;34m()\u001b[0m\n",
      "\u001b[0;31mKeyError\u001b[0m: 'Timestamp'"
     ]
    }
   ],
   "source": [
    "dataset1 = pd.read_json(\"./PCL_Band2_Nov4_j/merged_file_acc.json\")\n",
    "dataset1_g = pd.read_json(\"./PCL_Band2_Nov4_j/merged_file_gyro.json\")\n",
    "dataset1_h = pd.read_json(\"./PCL_Band2_Nov4_j/merged_file_heart.json\")\n",
    "dataset1_t = pd.read_json(\"./PCL_Band2_Nov4_j/merged_file_skin.json\")\n",
    "#dataset1_s = pd.read_json(\"./PCL_Band2_Nov4_j/merged_file_skin.json\")\n",
    "\n",
    "dataset1 = dataset1.sort_values(by='Timestamp') \n",
    "dataset1['Timestamp'] = dataset1['Timestamp'].apply(lambda x: x.replace(microsecond=0))\n",
    "dataset1 = dataset1[[5,6,7,8]]\n",
    "\n",
    "dataset1_g = dataset1_g.sort_values(by='Timestamp') \n",
    "dataset1_g['Timestamp'] = dataset1_g['Timestamp'].apply(lambda x: x.replace(microsecond=0))\n",
    "dataset1_g = dataset1_g[[1,2,3,8]]\n",
    "\n",
    "dataset_f1 = dataset1.merge(dataset1_g,how='left', left_on='Timestamp', right_on='Timestamp')\n",
    "\n",
    "dataset1_h = dataset1_h.sort_values(by='Timestamp') \n",
    "dataset1_h['Timestamp'] = dataset1_h['Timestamp'].apply(lambda x: x.replace(microsecond=0))\n",
    "dataset1_h = dataset1_h[[6,3]]\n",
    "\n",
    "dataset_f1 = dataset_f1.merge(dataset1_h,how='left', left_on='Timestamp', right_on='Timestamp')\n",
    "\n",
    "dataset1_t = dataset1_t.sort_values(by='Timestamp') \n",
    "dataset1_t['Timestamp'] = dataset1_t['Timestamp'].apply(lambda x: x.replace(microsecond=0))\n",
    "dataset1_t = dataset1_t[[6,5]]\n",
    "\n",
    "dataset_f1 = dataset_f1.merge(dataset1_t,how='left', left_on='Timestamp', right_on='Timestamp')\n",
    "\n",
    "#dataset1_s = dataset1_s.sort_values(by='Timestamp')\n",
    "#dataset1_s['Timestamp'] = dataset1_s['Timestamp'].apply(lambda x: x.replace(microsecond=0))\n",
    "#dataset1_s = dataset1_s[[7,5]]\n",
    "#dataset_f1 = dataset_f1.merge(dataset1_s,how='left', left_on='Timestamp', right_on='Timestamp')\n",
    "\n",
    "dataset_f1 = dataset_f1.fillna(method='bfill')\n",
    "dataset_f1 = dataset_f1.fillna(method='pad')\n"
   ]
  },
  {
   "cell_type": "code",
   "execution_count": 3,
   "metadata": {
    "collapsed": false
   },
   "outputs": [],
   "source": [
    "dataset2 = pd.read_json(\"./PCL_Jayant/merged_file_acc.json\")\n",
    "dataset2_g = pd.read_json(\"./PCL_Jayant/merged_file_gyro.json\")\n",
    "dataset2_h = pd.read_json(\"./PCL_Jayant/merged_file_heart.json\")\n",
    "dataset2_t = pd.read_json(\"./PCL_Jayant/merged_file_skin.json\")\n",
    "dataset2_s = pd.read_json(\"./PCL_Jayant/merged_file_speed.json\")\n",
    "\n",
    "dataset2 = dataset2.sort_values(by='Timestamp') \n",
    "dataset2['Timestamp'] = dataset2['Timestamp'].apply(lambda x: x.replace(microsecond=0))\n",
    "dataset2 = dataset2[[5,6,7,8]]\n",
    "\n",
    "dataset2_g = dataset2_g.sort_values(by='Timestamp') \n",
    "dataset2_g['Timestamp'] = dataset2_g['Timestamp'].apply(lambda x: x.replace(microsecond=0))\n",
    "dataset2_g = dataset2_g[[1,2,3,8]]\n",
    "\n",
    "dataset_f2 = dataset2.merge(dataset2_g,how='left', left_on='Timestamp', right_on='Timestamp')\n",
    "\n",
    "dataset2_h = dataset2_h.sort_values(by='Timestamp') \n",
    "dataset2_h['Timestamp'] = dataset2_h['Timestamp'].apply(lambda x: x.replace(microsecond=0))\n",
    "dataset2_h = dataset2_h[[6,3]]\n",
    "\n",
    "dataset_f2 = dataset_f2.merge(dataset2_h,how='left', left_on='Timestamp', right_on='Timestamp')\n",
    "\n",
    "dataset2_t = dataset2_t.sort_values(by='Timestamp') \n",
    "dataset2_t['Timestamp'] = dataset2_t['Timestamp'].apply(lambda x: x.replace(microsecond=0))\n",
    "dataset2_t = dataset2_t[[6,5]]\n",
    "\n",
    "dataset_f2 = dataset_f2.merge(dataset2_t,how='left', left_on='Timestamp', right_on='Timestamp')\n",
    "\n",
    "dataset2_s = dataset2_s.sort_values(by='Timestamp')\n",
    "dataset2_s['Timestamp'] = dataset2_s['Timestamp'].apply(lambda x: x.replace(microsecond=0))\n",
    "dataset2_s = dataset2_s[[7,5]]\n",
    "dataset_f2 = dataset_f2.merge(dataset2_s,how='left', left_on='Timestamp', right_on='Timestamp')\n",
    "\n",
    "dataset_f2 = dataset_f2.fillna(method='bfill')\n",
    "dataset_f2 = dataset_f2.fillna(method='pad')\n"
   ]
  },
  {
   "cell_type": "code",
   "execution_count": 4,
   "metadata": {
    "collapsed": true
   },
   "outputs": [],
   "source": [
    "import matplotlib.pyplot as plt\n",
    "%matplotlib inline"
   ]
  },
  {
   "cell_type": "code",
   "execution_count": 5,
   "metadata": {
    "collapsed": false
   },
   "outputs": [],
   "source": [
    "data = dataset_f2.as_matrix();\n",
    "data1 = dataset_f1.as_matrix();\n"
   ]
  },
  {
   "cell_type": "code",
   "execution_count": 6,
   "metadata": {
    "collapsed": false
   },
   "outputs": [],
   "source": [
    "ax_2 = data[:,1];\n",
    "ay_2 = data[:,2];\n",
    "az_2 = data[:,3];\n",
    "gx_2 = data[:,4];\n",
    "gy_2 = data[:,5];\n",
    "gz_2 = data[:,6];\n",
    "h_2 = data[:,7];\n",
    "t_2 = data[:,8];\n",
    "s_2 = data[:,9]\n",
    "\n",
    "\n",
    "ax_1 = data1[:,1];\n",
    "ay_1 = data1[:,2];\n",
    "az_1 = data1[:,3];\n",
    "gx_1 = data1[:,4];\n",
    "gy_1 = data1[:,5];\n",
    "gz_1 = data1[:,6];\n",
    "h_1 = data1[:,7];\n",
    "t_1 = data1[:,8];\n",
    "#s_1 = data1[:,9]\n",
    "\n",
    "len1 = np.linspace(0, len(ax_1), len(ax_1));\n",
    "len2 = np.linspace(0, len(ax_2), len(ax_2));\n",
    "\n",
    "#plt.figure\n",
    "#plt.plot( len2, ax_2, \"r\",len1,ax_1,\"b\");\n",
    "#plt.legend((\"Ax-Band-2\", \"Ax-Band-1\"), loc ='best');\n",
    "#plt.grid(True);\n",
    "#plt.show();"
   ]
  },
  {
   "cell_type": "code",
   "execution_count": 7,
   "metadata": {
    "collapsed": false
   },
   "outputs": [],
   "source": [
    "#len1 = np.linspace(0, len(ax_1), len(ax_1));\n",
    "#len2 = np.linspace(0, len(ax_2), len(ax_2));\n",
    "\n",
    "#plt.figure\n",
    "#plt.plot(len1,az_1,\"b\", len2, az_2, \"r\");\n",
    "#plt.legend((\"Az-Band-1\", \"Az-Band-2\"), loc ='best');\n",
    "#plt.grid(True);\n",
    "#plt.show();"
   ]
  },
  {
   "cell_type": "code",
   "execution_count": 8,
   "metadata": {
    "collapsed": false
   },
   "outputs": [],
   "source": [
    "#len1 = np.linspace(0, len(ay_1), len(ay_1));\n",
    "#len2 = np.linspace(0, len(ay_2), len(ay_2));\n",
    "\n",
    "#plt.figure\n",
    "#plt.plot( len2, ay_2, \"r\",len1,ay_1,\"b\");\n",
    "#plt.legend((\"Ay-Band-2\", \"Ay-Band-1\"), loc ='best');\n",
    "#plt.grid(True);\n",
    "#plt.show();"
   ]
  },
  {
   "cell_type": "code",
   "execution_count": 9,
   "metadata": {
    "collapsed": false
   },
   "outputs": [],
   "source": [
    "#len1 = np.linspace(0, len(gx_1), len(gx_1));\n",
    "#len2 = np.linspace(0, len(gx_2), len(gx_2));\n",
    "\n",
    "#plt.figure\n",
    "#plt.plot(len1,gx_1,\"b\", len2, gx_2, \"r\");\n",
    "#plt.legend((\"Gx-Band-1\", \"Gx-Band-2\"), loc ='best');\n",
    "#plt.grid(True);\n",
    "#plt.show();"
   ]
  },
  {
   "cell_type": "code",
   "execution_count": 10,
   "metadata": {
    "collapsed": false,
    "scrolled": true
   },
   "outputs": [],
   "source": [
    "#len1 = np.linspace(0, len(gx_1), len(gx_1));\n",
    "#len2 = np.linspace(0, len(gx_2), len(gx_2));\n",
    "\n",
    "#plt.figure\n",
    "#plt.plot(len1,gy_1,\"b\", len2, gy_2, \"r\");\n",
    "#plt.legend((\"Gy-Band-1\", \"Gy-Band-2\"), loc ='best');\n",
    "#plt.grid(True);\n",
    "#plt.show();"
   ]
  },
  {
   "cell_type": "code",
   "execution_count": 11,
   "metadata": {
    "collapsed": false
   },
   "outputs": [],
   "source": [
    "import matplotlib.pyplot as plt\n",
    "%matplotlib inline\n",
    "#plt.plot(ax_1[0:100])\n",
    "#plt.show()"
   ]
  },
  {
   "cell_type": "code",
   "execution_count": 12,
   "metadata": {
    "collapsed": false
   },
   "outputs": [],
   "source": [
    "d2 = np.mean(data[:,1:4]**2, axis = 1);\n",
    "d1 = np.mean(data1[:,1:4]**2, axis = 1);"
   ]
  },
  {
   "cell_type": "code",
   "execution_count": 13,
   "metadata": {
    "collapsed": false
   },
   "outputs": [
    {
     "data": {
      "text/plain": [
       "(10915,)"
      ]
     },
     "execution_count": 13,
     "metadata": {},
     "output_type": "execute_result"
    }
   ],
   "source": [
    "d2.shape"
   ]
  },
  {
   "cell_type": "code",
   "execution_count": 14,
   "metadata": {
    "collapsed": false
   },
   "outputs": [],
   "source": [
    "rms_acc_2 = []\n",
    "for i in range (0, len(d2)):\n",
    "    rms_acc_2.append(ma.sqrt(d2[i]));\n",
    "    \n",
    "rms_acc_1 = []\n",
    "for i in range (0, len(d1)):\n",
    "    rms_acc_1.append(ma.sqrt(d1[i]));\n",
    "#len(rms_acc_1)\n",
    "\n",
    "#len1 = np.linspace(0, len(rms_acc_1), len(rms_acc_1));\n",
    "#len2 = np.linspace(0, len(rms_acc_2), len(rms_acc_2));\n",
    "\n",
    "#plt.figure\n",
    "#plt.plot( len2, rms_acc_2, \"r\",len1,rms_acc_1,\"b\");\n",
    "#plt.legend((\"Band-2\", \"Band-1\"), loc ='best');\n",
    "#plt.grid(True);\n",
    "#plt.show();\n"
   ]
  },
  {
   "cell_type": "code",
   "execution_count": 15,
   "metadata": {
    "collapsed": false
   },
   "outputs": [],
   "source": [
    "#rms_acc_2"
   ]
  },
  {
   "cell_type": "code",
   "execution_count": 16,
   "metadata": {
    "collapsed": false
   },
   "outputs": [],
   "source": [
    "w = signal.medfilt(rms_acc_2);\n",
    "\n",
    "acc_x_2 = signal.medfilt(ax_2);\n",
    "acc_y_2 = signal.medfilt(ay_2);\n",
    "acc_z_2 = signal.medfilt(az_2);\n",
    "\n",
    "Num_taps = 10;\n",
    "a = signal.firwin(Num_taps, cutoff = 0.001, window = \"boxcar\");\n",
    "\n",
    "g_x_2 = signal.convolve(gx_2, a, mode='full');\n",
    "g_y_2 = signal.convolve(gy_2, a, mode='full');\n",
    "g_z_2 = signal.convolve(gz_2, a, mode='full');\n",
    "\n",
    "w1 = signal.medfilt(rms_acc_1);\n",
    "\n",
    "acc_x_1 = signal.medfilt(ax_1);\n",
    "acc_y_1 = signal.medfilt(ay_1);\n",
    "acc_z_1 = signal.medfilt(az_1);\n",
    "\n",
    "Num_taps = 10;\n",
    "a = signal.firwin(Num_taps, cutoff = 0.001, window = \"boxcar\");\n",
    "\n",
    "g_x_1 = signal.convolve(gx_1, a, mode='full');\n",
    "g_y_1 = signal.convolve(gy_1, a, mode='full');\n",
    "g_z_1 = signal.convolve(gz_1, a, mode='full');"
   ]
  },
  {
   "cell_type": "code",
   "execution_count": 91,
   "metadata": {
    "collapsed": false
   },
   "outputs": [],
   "source": [
    "frame = 75;\n",
    "stepsize = 50;\n",
    "vr2 = [];\n",
    "mn2 = [];\n",
    "    \n",
    "vr_acc_x_2 = []\n",
    "vr_acc_y_2 = []\n",
    "vr_acc_z_2 = []\n",
    "\n",
    "\n",
    "rms_acc_x_2 = []\n",
    "rms_acc_y_2 = []\n",
    "rms_acc_z_2 = []\n",
    "\n",
    "\n",
    "# vr1 = variance of rms acc1\n",
    "# vr2 = variance of rms acc2\n",
    "# mn1 = mean of rms acc1\n",
    "# mn2 = mean of rms ac c1\n",
    "\n",
    "mn_acc_x_2 = []\n",
    "\n",
    "mn_acc_y_2 = []\n",
    "\n",
    "mn_acc_z_2 = []\n",
    "\n",
    "mn_g_x_2 = []\n",
    "\n",
    "mn_g_y_2 = []\n",
    "\n",
    "mn_g_z_2 = []\n",
    "\n",
    "vr_g_x_2 = []\n",
    "\n",
    "vr_g_y_2 = []\n",
    "\n",
    "vr_g_z_2 = []\n",
    "\n",
    "rms_g_x_2 = []\n",
    "\n",
    "rms_g_y_2 = []\n",
    "\n",
    "rms_g_z_2 = []\n",
    "\n",
    "mn_h_2 = []\n",
    "\n",
    "mn_t_2 = []\n",
    "\n",
    "mn_s_2 = []\n",
    "\n",
    "\n",
    "#vr_acc_x_1\n",
    "#vr_acc_y_1\n",
    "#vr_acc_z_1\n",
    "\n",
    "#mn_acc_x_1\n",
    "#mn_acc_y_1\n",
    "#mn_acc_z_1\n",
    "\n",
    "\n",
    "#vr_acc_x_2\n",
    "#vr_acc_y_2\n",
    "#vr_acc_z_2\n",
    "\n",
    "#mn_acc_x_2\n",
    "#mn_acc_y_2\n",
    "#mn_acc_z_2    \n",
    "\n",
    "\n",
    "vr1 = [];\n",
    "mn1 = [];\n",
    "    \n",
    "vr_acc_x_1 = []\n",
    "vr_acc_y_1 = []\n",
    "vr_acc_z_1 = []\n",
    "\n",
    "\n",
    "rms_acc_x_1 = []\n",
    "rms_acc_y_1 = []\n",
    "rms_acc_z_1 = []\n",
    "\n",
    "\n",
    "mn_acc_x_1 = []\n",
    "\n",
    "mn_acc_y_1 = []\n",
    "\n",
    "mn_acc_z_1 = []\n",
    "mn_g_x_1 = []\n",
    "\n",
    "mn_g_y_1= []\n",
    "\n",
    "mn_g_z_1 = []\n",
    "\n",
    "vr_g_x_1 = []\n",
    "\n",
    "vr_g_y_1 = []\n",
    "\n",
    "vr_g_z_1 = []\n",
    "\n",
    "rms_g_x_1 = []\n",
    "\n",
    "rms_g_y_1 = []\n",
    "\n",
    "rms_g_z_1 = []\n",
    "\n",
    "mn_h_1 = []\n",
    "\n",
    "mn_t_1 = []\n",
    "\n",
    "#mn_s_1 = []"
   ]
  },
  {
   "cell_type": "code",
   "execution_count": 92,
   "metadata": {
    "collapsed": false
   },
   "outputs": [],
   "source": [
    "for cnt in range (0, len(acc_x_2), stepsize):\n",
    "    dt = acc_x_2[cnt:cnt+frame];\n",
    "    dt2 = acc_y_2[cnt:cnt+frame];\n",
    "    dt3 = acc_z_2[cnt:cnt+frame];\n",
    "    var_acc_x_2 = np.var(dt, axis = 0)\n",
    "    var_acc_y_2 = np.var(dt2, axis = 0)\n",
    "    var_acc_z_2 = np.var(dt3, axis = 0)\n",
    "    \n",
    "    vr_acc_x_2.append(var_acc_x_2);\n",
    "    vr_acc_y_2.append(var_acc_y_2);\n",
    "    vr_acc_z_2.append(var_acc_z_2);\n",
    "        \n",
    "for cnt in range (0, len(acc_x_1), stepsize):\n",
    "    dt = acc_x_1[cnt:cnt+frame];\n",
    "    dt2 = acc_y_1[cnt:cnt+frame];\n",
    "    dt3 = acc_z_1[cnt:cnt+frame];\n",
    "    var_acc_x_1 = np.var(dt, axis = 0)\n",
    "    var_acc_y_1 = np.var(dt2, axis = 0)\n",
    "    var_acc_z_1 = np.var(dt3, axis = 0)\n",
    "    \n",
    "    vr_acc_x_1.append(var_acc_x_1);\n",
    "    vr_acc_y_1.append(var_acc_y_1);\n",
    "    vr_acc_z_1.append(var_acc_z_1);"
   ]
  },
  {
   "cell_type": "code",
   "execution_count": 93,
   "metadata": {
    "collapsed": false
   },
   "outputs": [],
   "source": [
    "for cnt in range (0, len(acc_x_2), stepsize):\n",
    "    dt = acc_x_2[cnt:cnt+frame];\n",
    "    dt2 = acc_y_2[cnt:cnt+frame];\n",
    "    dt3 = acc_z_2[cnt:cnt+frame];\n",
    "    mean_acc_x_2 = np.mean(dt, axis = 0)\n",
    "    mean_acc_y_2 = np.mean(dt2, axis = 0)\n",
    "    mean_acc_z_2 = np.mean(dt3, axis = 0)\n",
    "    \n",
    "    mn_acc_x_2.append(mean_acc_x_2);\n",
    "    mn_acc_y_2.append(mean_acc_y_2);\n",
    "    mn_acc_z_2.append(mean_acc_z_2);\n",
    "    \n",
    "\n",
    "for cnt in range (0, len(acc_x_1), stepsize):\n",
    "    dt = acc_x_1[cnt:cnt+frame];\n",
    "    dt2 = acc_y_1[cnt:cnt+frame];\n",
    "    dt3 = acc_z_1[cnt:cnt+frame];\n",
    "    mean_acc_x_1 = np.mean(dt, axis = 0)\n",
    "    mean_acc_y_1 = np.mean(dt2, axis = 0)\n",
    "    mean_acc_z_1 = np.mean(dt3, axis = 0)\n",
    "    \n",
    "    mn_acc_x_1.append(mean_acc_x_1);\n",
    "    mn_acc_y_1.append(mean_acc_y_1);\n",
    "    mn_acc_z_1.append(mean_acc_z_1);\n",
    "      "
   ]
  },
  {
   "cell_type": "code",
   "execution_count": 94,
   "metadata": {
    "collapsed": false
   },
   "outputs": [],
   "source": [
    "#len1 = np.linspace(0, len(gx_1), len(gx_1));\n",
    "#len2 = np.linspace(0, len(gx_2), len(gx_2));\n",
    "\n",
    "#plt.figure\n",
    "#plt.plot(len1,gz_1,\"b\", len2, gz_2, \"r\");\n",
    "#plt.legend((\"Gz-Band-1\", \"Gz-Band-2\"), loc ='best');\n",
    "#plt.grid(True);\n",
    "#plt.show();"
   ]
  },
  {
   "cell_type": "code",
   "execution_count": 95,
   "metadata": {
    "collapsed": true
   },
   "outputs": [],
   "source": [
    "for cnt in range (0, len(acc_x_2), stepsize):\n",
    "    dt = acc_x_2[cnt:cnt+frame];\n",
    "    dt2 = acc_y_2[cnt:cnt+frame];\n",
    "    dt3 = acc_z_2[cnt:cnt+frame];\n",
    "    \n",
    "    rm_acc_x_2 = np.mean(dt**2, axis = 0)\n",
    "    rm_acc_y_2 = np.mean(dt2**2, axis = 0)\n",
    "    rm_acc_z_2 = np.mean(dt3**2, axis = 0)\n",
    "    \n",
    "    rms_acc_x_2.append(ma.sqrt(rm_acc_x_2));\n",
    "    rms_acc_y_2.append(ma.sqrt(rm_acc_y_2));\n",
    "    rms_acc_z_2.append(ma.sqrt(rm_acc_z_2));\n",
    "    \n",
    "    \n",
    "for cnt in range (0, len(acc_x_1), stepsize):\n",
    "    dt = acc_x_1[cnt:cnt+frame];\n",
    "    dt2 = acc_y_1[cnt:cnt+frame];\n",
    "    dt3 = acc_z_1[cnt:cnt+frame];\n",
    "    \n",
    "    rm_acc_x_1 = np.mean(dt**2, axis = 0)\n",
    "    rm_acc_y_1 = np.mean(dt2**2, axis = 0)\n",
    "    rm_acc_z_1 = np.mean(dt3**2, axis = 0)\n",
    "    \n",
    "    rms_acc_x_1.append(ma.sqrt(rm_acc_x_1));\n",
    "    rms_acc_y_1.append(ma.sqrt(rm_acc_y_1));\n",
    "    rms_acc_z_1.append(ma.sqrt(rm_acc_z_1));\n",
    "   "
   ]
  },
  {
   "cell_type": "code",
   "execution_count": 96,
   "metadata": {
    "collapsed": true
   },
   "outputs": [],
   "source": [
    "for count in range (0,len(acc_x_2), stepsize):\n",
    "    dt2 = w[count:count + frame];\n",
    "    var2 = np.var(dt2, axis = 0);\n",
    "    mean2 = np.mean(dt2, axis = 0);\n",
    "    \n",
    "    vr2.append(var2);\n",
    "    mn2.append(mean2);\n",
    "    \n",
    "    \n",
    "for count in range (0,len(acc_x_1), stepsize):\n",
    "    dt1 = w[count:count + frame];\n",
    "    var1 = np.var(dt2, axis = 0);\n",
    "    mean1 = np.mean(dt2, axis = 0);\n",
    "    \n",
    "    vr1.append(var1);\n",
    "    mn1.append(mean1);"
   ]
  },
  {
   "cell_type": "code",
   "execution_count": 97,
   "metadata": {
    "collapsed": false
   },
   "outputs": [],
   "source": [
    "for cnt in range (0, len(acc_x_2), stepsize):\n",
    "    dt = gx_2[cnt:cnt+frame];\n",
    "    dt2 = gy_2[cnt:cnt+frame];\n",
    "    dt3 = gz_2[cnt:cnt+frame];\n",
    "    dt4 = h_2[cnt:cnt+frame];\n",
    "    dt5 = t_2[cnt:cnt+frame];\n",
    "    dt6 = s_2[cnt:cnt+frame];\n",
    "    \n",
    "    mean_gx_2 = np.mean(dt, axis = 0)\n",
    "    mean_gy_2 = np.mean(dt2, axis = 0)\n",
    "    mean_gz_2 = np.mean(dt3, axis = 0)\n",
    "    \n",
    "    var_gx_2 = np.var(dt, axis = 0)\n",
    "    var_gy_2 = np.var(dt2, axis = 0)\n",
    "    var_gz_2 = np.var(dt3, axis = 0)\n",
    "    \n",
    "    vr_g_x_2.append(var_gx_2);\n",
    "    vr_g_y_2.append(var_gy_2);\n",
    "    vr_g_z_2.append(var_gz_2);\n",
    "    \n",
    "    rm_g_x_2 = np.mean(dt**2, axis = 0)\n",
    "    rm_g_y_2 = np.mean(dt2**2, axis = 0)\n",
    "    rm_g_z_2 = np.mean(dt3**2, axis = 0)\n",
    "    \n",
    "    rms_g_x_2.append(ma.sqrt(rm_g_x_2));\n",
    "    rms_g_y_2.append(ma.sqrt(rm_g_y_2));\n",
    "    rms_g_z_2.append(ma.sqrt(rm_g_z_2));\n",
    "    \n",
    "    mean_h_2 = np.mean(dt4, axis = 0)\n",
    "    mean_t_2 = np.mean(dt5, axis = 0)\n",
    "    mean_s_2 = np.mean(dt6, axis = 0)\n",
    "    \n",
    "    mn_g_x_2.append(mean_gx_2);\n",
    "    mn_g_y_2.append(mean_gy_2);\n",
    "    mn_g_z_2.append(mean_gz_2);\n",
    "    mn_h_2.append(mean_h_2);\n",
    "    mn_t_2.append(mean_t_2);\n",
    "    mn_s_2.append(mean_s_2);\n",
    "    \n",
    "    \n",
    "    \n",
    "for cnt in range (0, len(acc_x_1), stepsize):\n",
    "    dt = gx_1[cnt:cnt+frame];\n",
    "    dt2 = gy_1[cnt:cnt+frame];\n",
    "    dt3 = gz_1[cnt:cnt+frame];\n",
    "    dt4 = h_1[cnt:cnt+frame];\n",
    "    dt5 = t_1[cnt:cnt+frame];\n",
    "    #dt6 = s_1[cnt:cnt+frame];\n",
    "    \n",
    "    mean_gx_1 = np.mean(dt, axis = 0)\n",
    "    mean_gy_1 = np.mean(dt2, axis = 0)\n",
    "    mean_gz_1 = np.mean(dt3, axis = 0)\n",
    "    \n",
    "    var_gx_1 = np.var(dt, axis = 0)\n",
    "    var_gy_1 = np.var(dt2, axis = 0)\n",
    "    var_gz_1 = np.var(dt3, axis = 0)\n",
    "    \n",
    "    vr_g_x_1.append(var_gx_1);\n",
    "    vr_g_y_1.append(var_gy_1);\n",
    "    vr_g_z_1.append(var_gz_1);\n",
    "    \n",
    "    rm_g_x_1 = np.mean(dt**2, axis = 0)\n",
    "    rm_g_y_1 = np.mean(dt2**2, axis = 0)\n",
    "    rm_g_z_1 = np.mean(dt3**2, axis = 0)\n",
    "    \n",
    "    rms_g_x_1.append(ma.sqrt(rm_g_x_1));\n",
    "    rms_g_y_1.append(ma.sqrt(rm_g_y_1));\n",
    "    rms_g_z_1.append(ma.sqrt(rm_g_z_1));\n",
    "    \n",
    "    mean_h_1 = np.mean(dt4, axis = 0)\n",
    "    mean_t_1 = np.mean(dt5, axis = 0)\n",
    "    #mean_s_1 = np.mean(dt6, axis = 0)\n",
    "    \n",
    "    mn_g_x_1.append(mean_gx_1);\n",
    "    mn_g_y_1.append(mean_gy_1);\n",
    "    mn_g_z_1.append(mean_gz_2);\n",
    "    mn_h_1.append(mean_h_1);\n",
    "    mn_t_1.append(mean_t_1);\n",
    "    #mn_s_1.append(mean_s_1);"
   ]
  },
  {
   "cell_type": "code",
   "execution_count": 98,
   "metadata": {
    "collapsed": false
   },
   "outputs": [],
   "source": [
    "a = np.zeros((len(mn_acc_x_2),), dtype=np.int)\n",
    "a1 = np.zeros((len(mn_acc_x_1),), dtype=np.int)"
   ]
  },
  {
   "cell_type": "code",
   "execution_count": 99,
   "metadata": {
    "collapsed": false
   },
   "outputs": [],
   "source": [
    "data_frame_features = np.column_stack((mn_acc_x_2, mn_acc_y_2,mn_acc_z_2,vr_acc_x_2, vr_acc_y_2,vr_acc_z_2,rms_acc_x_2,rms_acc_y_2,rms_acc_z_2,mn2,vr2,mn_g_x_2,mn_g_y_2,mn_g_z_2,vr_g_x_2,vr_g_y_2,vr_g_z_2,rms_g_x_2,rms_g_y_2,rms_g_z_2,mn_h_2,mn_t_2,a))\n",
    "\n",
    "data_frame_features1 = np.column_stack((mn_acc_x_1, mn_acc_y_1,mn_acc_z_1,vr_acc_x_1, vr_acc_y_1,vr_acc_z_1,rms_acc_x_1,rms_acc_y_1,rms_acc_z_1,mn1,vr1,mn_g_x_1,mn_g_y_1,mn_g_z_1,vr_g_x_1,vr_g_y_1,vr_g_z_1,rms_g_x_1,rms_g_y_1,rms_g_z_1,mn_h_1,mn_t_1, a1))#mn_s_1,a1))"
   ]
  },
  {
   "cell_type": "code",
   "execution_count": 100,
   "metadata": {
    "collapsed": false
   },
   "outputs": [
    {
     "data": {
      "text/plain": [
       "(219, 23)"
      ]
     },
     "execution_count": 100,
     "metadata": {},
     "output_type": "execute_result"
    }
   ],
   "source": [
    "data_frame_features.shape"
   ]
  },
  {
   "cell_type": "code",
   "execution_count": 101,
   "metadata": {
    "collapsed": true
   },
   "outputs": [],
   "source": [
    "np.savetxt('pclj.txt',data_frame_features)\n",
    "#np.savetxt('pcl_j2.txt', data_frame_features1)"
   ]
  },
  {
   "cell_type": "code",
   "execution_count": 102,
   "metadata": {
    "collapsed": true
   },
   "outputs": [],
   "source": [
    "#check_f = np.loadtxt('f.txt')"
   ]
  },
  {
   "cell_type": "code",
   "execution_count": 29,
   "metadata": {
    "collapsed": false
   },
   "outputs": [],
   "source": [
    "#check_f.shape"
   ]
  },
  {
   "cell_type": "code",
   "execution_count": null,
   "metadata": {
    "collapsed": true
   },
   "outputs": [],
   "source": []
  }
 ],
 "metadata": {
  "anaconda-cloud": {},
  "kernelspec": {
   "display_name": "Python 3",
   "language": "python",
   "name": "python3"
  },
  "language_info": {
   "codemirror_mode": {
    "name": "ipython",
    "version": 3
   },
   "file_extension": ".py",
   "mimetype": "text/x-python",
   "name": "python",
   "nbconvert_exporter": "python",
   "pygments_lexer": "ipython3",
   "version": "3.4.3"
  }
 },
 "nbformat": 4,
 "nbformat_minor": 1
}
